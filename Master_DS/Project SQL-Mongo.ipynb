{
 "cells": [
  {
   "cell_type": "code",
   "execution_count": 1,
   "metadata": {},
   "outputs": [
    {
     "name": "stdout",
     "output_type": "stream",
     "text": [
      "Mongo version 3.7.1\n"
     ]
    }
   ],
   "source": [
    "import pandas as pd\n",
    "from sqlalchemy.engine import create_engine\n",
    "import sqlite3\n",
    "import pymongo\n",
    "import sqlalchemy\n",
    "\n",
    "import numpy as np\n",
    "from IPython.core.display import display, HTML\n",
    "import pymongo\n",
    "from pymongo import MongoClient\n",
    "print ('Mongo version', pymongo.__version__)\n",
    "client = MongoClient('localhost', 27017)  #MongoClient('mongodb://localhost:27017/')\n",
    "db = client.test\n",
    "collection = db.people"
   ]
  },
  {
   "cell_type": "code",
   "execution_count": 630,
   "metadata": {},
   "outputs": [],
   "source": [
    "import math"
   ]
  },
  {
   "cell_type": "markdown",
   "metadata": {},
   "source": [
    "#collection.drop()\n",
    "#os.system('mongoimport -d test -c people dummyData.json')"
   ]
  },
  {
   "cell_type": "markdown",
   "metadata": {},
   "source": [
    "cursor = collection.find().sort('Age',pymongo.ASCENDING).limit(3)\n",
    "for doc in cursor:\n",
    "    print (doc)"
   ]
  },
  {
   "cell_type": "markdown",
   "metadata": {},
   "source": [
    "db = client['datacampdb']\n",
    "article = {\"author\": \"Derrick Mwiti\",\n",
    "            \"about\": \"Introduction to MongoDB and Python\",\n",
    "            \"tags\":\n",
    "                [\"mongodb\", \"python\", \"pymongo\"]}\n",
    "\n",
    "articles = db.articles\n",
    "result = articles.insert_one(article)"
   ]
  },
  {
   "cell_type": "code",
   "execution_count": 726,
   "metadata": {},
   "outputs": [
    {
     "data": {
      "text/html": [
       "<div>\n",
       "<style scoped>\n",
       "    .dataframe tbody tr th:only-of-type {\n",
       "        vertical-align: middle;\n",
       "    }\n",
       "\n",
       "    .dataframe tbody tr th {\n",
       "        vertical-align: top;\n",
       "    }\n",
       "\n",
       "    .dataframe thead th {\n",
       "        text-align: right;\n",
       "    }\n",
       "</style>\n",
       "<table border=\"1\" class=\"dataframe\">\n",
       "  <thead>\n",
       "    <tr style=\"text-align: right;\">\n",
       "      <th></th>\n",
       "      <th>App</th>\n",
       "      <th>Translated_Review</th>\n",
       "      <th>Sentiment</th>\n",
       "      <th>Sentiment_Polarity</th>\n",
       "      <th>Sentiment_Subjectivity</th>\n",
       "    </tr>\n",
       "  </thead>\n",
       "  <tbody>\n",
       "    <tr>\n",
       "      <th>0</th>\n",
       "      <td>10 Best Foods for You</td>\n",
       "      <td>I like eat delicious food. That's I'm cooking ...</td>\n",
       "      <td>Positive</td>\n",
       "      <td>1.00</td>\n",
       "      <td>0.533333</td>\n",
       "    </tr>\n",
       "    <tr>\n",
       "      <th>1</th>\n",
       "      <td>10 Best Foods for You</td>\n",
       "      <td>This help eating healthy exercise regular basis</td>\n",
       "      <td>Positive</td>\n",
       "      <td>0.25</td>\n",
       "      <td>0.288462</td>\n",
       "    </tr>\n",
       "  </tbody>\n",
       "</table>\n",
       "</div>"
      ],
      "text/plain": [
       "                     App                                  Translated_Review  \\\n",
       "0  10 Best Foods for You  I like eat delicious food. That's I'm cooking ...   \n",
       "1  10 Best Foods for You    This help eating healthy exercise regular basis   \n",
       "\n",
       "  Sentiment  Sentiment_Polarity  Sentiment_Subjectivity  \n",
       "0  Positive                1.00                0.533333  \n",
       "1  Positive                0.25                0.288462  "
      ]
     },
     "execution_count": 726,
     "metadata": {},
     "output_type": "execute_result"
    }
   ],
   "source": [
    "pd.read_csv(\"googleplaystore_user_reviews.csv\").head(2)"
   ]
  },
  {
   "cell_type": "code",
   "execution_count": 733,
   "metadata": {},
   "outputs": [
    {
     "data": {
      "text/plain": [
       "<matplotlib.axes._subplots.AxesSubplot at 0x1904250cef0>"
      ]
     },
     "execution_count": 733,
     "metadata": {},
     "output_type": "execute_result"
    },
    {
     "data": {
      "image/png": "[encoded data removed]",
      "text/plain": [
       "<Figure size 432x288 with 1 Axes>"
      ]
     },
     "metadata": {},
     "output_type": "display_data"
    }
   ],
   "source": [
    "import matplotlib.pyplot as plt\n",
    "sentiment_accuracy= pd.read_csv(\"googleplaystore_user_reviews.csv\")['Sentiment_Subjectivity'].dropna()\n",
    "sentiment_accuracy.hist()"
   ]
  },
  {
   "cell_type": "code",
   "execution_count": 745,
   "metadata": {},
   "outputs": [],
   "source": [
    "#sentiment_accuracy[sentiment_accuracy>0].apply(lambda x: round(x,2)).to_excel('Sentiment Accuracy.xlsx')\n",
    "sentiment_accuracy[sentiment_accuracy>0].apply(lambda x: round(x,2)).apply(lambda x: '('+str(x)+ '),').to_excel('Sentiment Accuracy2.xlsx')"
   ]
  },
  {
   "cell_type": "markdown",
   "metadata": {},
   "source": [
    "### SQL"
   ]
  },
  {
   "cell_type": "code",
   "execution_count": 2,
   "metadata": {},
   "outputs": [],
   "source": [
    "%load_ext sql"
   ]
  },
  {
   "cell_type": "code",
   "execution_count": 592,
   "metadata": {},
   "outputs": [
    {
     "data": {
      "text/html": [
       "<div>\n",
       "<style scoped>\n",
       "    .dataframe tbody tr th:only-of-type {\n",
       "        vertical-align: middle;\n",
       "    }\n",
       "\n",
       "    .dataframe tbody tr th {\n",
       "        vertical-align: top;\n",
       "    }\n",
       "\n",
       "    .dataframe thead th {\n",
       "        text-align: right;\n",
       "    }\n",
       "</style>\n",
       "<table border=\"1\" class=\"dataframe\">\n",
       "  <thead>\n",
       "    <tr style=\"text-align: right;\">\n",
       "      <th></th>\n",
       "      <th>App</th>\n",
       "      <th>Category</th>\n",
       "      <th>Rating</th>\n",
       "      <th>Reviews</th>\n",
       "      <th>Size</th>\n",
       "      <th>Installs</th>\n",
       "      <th>Type</th>\n",
       "      <th>Price</th>\n",
       "      <th>Content Rating</th>\n",
       "      <th>Genres</th>\n",
       "      <th>Last Updated</th>\n",
       "      <th>Current Ver</th>\n",
       "      <th>Android Ver</th>\n",
       "    </tr>\n",
       "  </thead>\n",
       "  <tbody>\n",
       "    <tr>\n",
       "      <th>0</th>\n",
       "      <td>Photo Editor &amp; Candy Camera &amp; Grid &amp; ScrapBook</td>\n",
       "      <td>ART_AND_DESIGN</td>\n",
       "      <td>4.1</td>\n",
       "      <td>159</td>\n",
       "      <td>19M</td>\n",
       "      <td>10,000+</td>\n",
       "      <td>Free</td>\n",
       "      <td>0</td>\n",
       "      <td>Everyone</td>\n",
       "      <td>Art &amp; Design</td>\n",
       "      <td>January 7, 2018</td>\n",
       "      <td>1.0.0</td>\n",
       "      <td>4.0.3 and up</td>\n",
       "    </tr>\n",
       "    <tr>\n",
       "      <th>1</th>\n",
       "      <td>Coloring book moana</td>\n",
       "      <td>ART_AND_DESIGN</td>\n",
       "      <td>3.9</td>\n",
       "      <td>967</td>\n",
       "      <td>14M</td>\n",
       "      <td>500,000+</td>\n",
       "      <td>Free</td>\n",
       "      <td>0</td>\n",
       "      <td>Everyone</td>\n",
       "      <td>Art &amp; Design;Pretend Play</td>\n",
       "      <td>January 15, 2018</td>\n",
       "      <td>2.0.0</td>\n",
       "      <td>4.0.3 and up</td>\n",
       "    </tr>\n",
       "    <tr>\n",
       "      <th>2</th>\n",
       "      <td>U Launcher Lite – FREE Live Cool Themes, Hide ...</td>\n",
       "      <td>ART_AND_DESIGN</td>\n",
       "      <td>4.7</td>\n",
       "      <td>87510</td>\n",
       "      <td>8.7M</td>\n",
       "      <td>5,000,000+</td>\n",
       "      <td>Free</td>\n",
       "      <td>0</td>\n",
       "      <td>Everyone</td>\n",
       "      <td>Art &amp; Design</td>\n",
       "      <td>August 1, 2018</td>\n",
       "      <td>1.2.4</td>\n",
       "      <td>4.0.3 and up</td>\n",
       "    </tr>\n",
       "    <tr>\n",
       "      <th>3</th>\n",
       "      <td>Sketch - Draw &amp; Paint</td>\n",
       "      <td>ART_AND_DESIGN</td>\n",
       "      <td>4.5</td>\n",
       "      <td>215644</td>\n",
       "      <td>25M</td>\n",
       "      <td>50,000,000+</td>\n",
       "      <td>Free</td>\n",
       "      <td>0</td>\n",
       "      <td>Teen</td>\n",
       "      <td>Art &amp; Design</td>\n",
       "      <td>June 8, 2018</td>\n",
       "      <td>Varies with device</td>\n",
       "      <td>4.2 and up</td>\n",
       "    </tr>\n",
       "    <tr>\n",
       "      <th>4</th>\n",
       "      <td>Pixel Draw - Number Art Coloring Book</td>\n",
       "      <td>ART_AND_DESIGN</td>\n",
       "      <td>4.3</td>\n",
       "      <td>967</td>\n",
       "      <td>2.8M</td>\n",
       "      <td>100,000+</td>\n",
       "      <td>Free</td>\n",
       "      <td>0</td>\n",
       "      <td>Everyone</td>\n",
       "      <td>Art &amp; Design;Creativity</td>\n",
       "      <td>June 20, 2018</td>\n",
       "      <td>1.1</td>\n",
       "      <td>4.4 and up</td>\n",
       "    </tr>\n",
       "  </tbody>\n",
       "</table>\n",
       "</div>"
      ],
      "text/plain": [
       "                                                 App        Category  Rating  \\\n",
       "0     Photo Editor & Candy Camera & Grid & ScrapBook  ART_AND_DESIGN     4.1   \n",
       "1                                Coloring book moana  ART_AND_DESIGN     3.9   \n",
       "2  U Launcher Lite – FREE Live Cool Themes, Hide ...  ART_AND_DESIGN     4.7   \n",
       "3                              Sketch - Draw & Paint  ART_AND_DESIGN     4.5   \n",
       "4              Pixel Draw - Number Art Coloring Book  ART_AND_DESIGN     4.3   \n",
       "\n",
       "  Reviews  Size     Installs  Type Price Content Rating  \\\n",
       "0     159   19M      10,000+  Free     0       Everyone   \n",
       "1     967   14M     500,000+  Free     0       Everyone   \n",
       "2   87510  8.7M   5,000,000+  Free     0       Everyone   \n",
       "3  215644   25M  50,000,000+  Free     0           Teen   \n",
       "4     967  2.8M     100,000+  Free     0       Everyone   \n",
       "\n",
       "                      Genres      Last Updated         Current Ver  \\\n",
       "0               Art & Design   January 7, 2018               1.0.0   \n",
       "1  Art & Design;Pretend Play  January 15, 2018               2.0.0   \n",
       "2               Art & Design    August 1, 2018               1.2.4   \n",
       "3               Art & Design      June 8, 2018  Varies with device   \n",
       "4    Art & Design;Creativity     June 20, 2018                 1.1   \n",
       "\n",
       "    Android Ver  \n",
       "0  4.0.3 and up  \n",
       "1  4.0.3 and up  \n",
       "2  4.0.3 and up  \n",
       "3    4.2 and up  \n",
       "4    4.4 and up  "
      ]
     },
     "execution_count": 592,
     "metadata": {},
     "output_type": "execute_result"
    }
   ],
   "source": [
    "apps_pandas= pd.read_csv(\"googleplaystore.csv\")\n",
    "apps_pandas.head()"
   ]
  },
  {
   "cell_type": "code",
   "execution_count": 593,
   "metadata": {},
   "outputs": [],
   "source": [
    "apps_pandas['App']= apps_pandas['App'].apply(lambda x: x.lower())"
   ]
  },
  {
   "cell_type": "code",
   "execution_count": 594,
   "metadata": {},
   "outputs": [
    {
     "data": {
      "text/plain": [
       "9639"
      ]
     },
     "execution_count": 594,
     "metadata": {},
     "output_type": "execute_result"
    }
   ],
   "source": [
    "len(list(apps_pandas['App'].unique()))"
   ]
  },
  {
   "cell_type": "code",
   "execution_count": 595,
   "metadata": {},
   "outputs": [
    {
     "data": {
      "text/plain": [
       "9639"
      ]
     },
     "execution_count": 595,
     "metadata": {},
     "output_type": "execute_result"
    }
   ],
   "source": [
    "diz= {}\n",
    "\n",
    "for i in range(10841):\n",
    "    key= apps_pandas.iloc[i]['App']\n",
    "    if key not in diz:\n",
    "        diz[key]= list(apps_pandas.iloc[i][['Genres', 'Rating', 'Size', 'Installs']].values)\n",
    "len(diz)"
   ]
  },
  {
   "cell_type": "code",
   "execution_count": 596,
   "metadata": {},
   "outputs": [
    {
     "data": {
      "text/html": [
       "<div>\n",
       "<style scoped>\n",
       "    .dataframe tbody tr th:only-of-type {\n",
       "        vertical-align: middle;\n",
       "    }\n",
       "\n",
       "    .dataframe tbody tr th {\n",
       "        vertical-align: top;\n",
       "    }\n",
       "\n",
       "    .dataframe thead th {\n",
       "        text-align: right;\n",
       "    }\n",
       "</style>\n",
       "<table border=\"1\" class=\"dataframe\">\n",
       "  <thead>\n",
       "    <tr style=\"text-align: right;\">\n",
       "      <th></th>\n",
       "      <th>Genre</th>\n",
       "      <th>Average Rating</th>\n",
       "      <th>Size</th>\n",
       "      <th>Downloads</th>\n",
       "    </tr>\n",
       "    <tr>\n",
       "      <th>App Name</th>\n",
       "      <th></th>\n",
       "      <th></th>\n",
       "      <th></th>\n",
       "      <th></th>\n",
       "    </tr>\n",
       "  </thead>\n",
       "  <tbody>\n",
       "    <tr>\n",
       "      <th>photo editor &amp; candy camera &amp; grid &amp; scrapbook</th>\n",
       "      <td>Art &amp; Design</td>\n",
       "      <td>4.1</td>\n",
       "      <td>19M</td>\n",
       "      <td>10,000+</td>\n",
       "    </tr>\n",
       "    <tr>\n",
       "      <th>coloring book moana</th>\n",
       "      <td>Art &amp; Design;Pretend Play</td>\n",
       "      <td>3.9</td>\n",
       "      <td>14M</td>\n",
       "      <td>500,000+</td>\n",
       "    </tr>\n",
       "    <tr>\n",
       "      <th>u launcher lite – free live cool themes, hide apps</th>\n",
       "      <td>Art &amp; Design</td>\n",
       "      <td>4.7</td>\n",
       "      <td>8.7M</td>\n",
       "      <td>5,000,000+</td>\n",
       "    </tr>\n",
       "    <tr>\n",
       "      <th>sketch - draw &amp; paint</th>\n",
       "      <td>Art &amp; Design</td>\n",
       "      <td>4.5</td>\n",
       "      <td>25M</td>\n",
       "      <td>50,000,000+</td>\n",
       "    </tr>\n",
       "    <tr>\n",
       "      <th>pixel draw - number art coloring book</th>\n",
       "      <td>Art &amp; Design;Creativity</td>\n",
       "      <td>4.3</td>\n",
       "      <td>2.8M</td>\n",
       "      <td>100,000+</td>\n",
       "    </tr>\n",
       "  </tbody>\n",
       "</table>\n",
       "</div>"
      ],
      "text/plain": [
       "                                                                        Genre  \\\n",
       "App Name                                                                        \n",
       "photo editor & candy camera & grid & scrapbook                   Art & Design   \n",
       "coloring book moana                                 Art & Design;Pretend Play   \n",
       "u launcher lite – free live cool themes, hide apps               Art & Design   \n",
       "sketch - draw & paint                                            Art & Design   \n",
       "pixel draw - number art coloring book                 Art & Design;Creativity   \n",
       "\n",
       "                                                   Average Rating  Size  \\\n",
       "App Name                                                                  \n",
       "photo editor & candy camera & grid & scrapbook                4.1   19M   \n",
       "coloring book moana                                           3.9   14M   \n",
       "u launcher lite – free live cool themes, hide apps            4.7  8.7M   \n",
       "sketch - draw & paint                                         4.5   25M   \n",
       "pixel draw - number art coloring book                         4.3  2.8M   \n",
       "\n",
       "                                                      Downloads  \n",
       "App Name                                                         \n",
       "photo editor & candy camera & grid & scrapbook          10,000+  \n",
       "coloring book moana                                    500,000+  \n",
       "u launcher lite – free live cool themes, hide apps   5,000,000+  \n",
       "sketch - draw & paint                               50,000,000+  \n",
       "pixel draw - number art coloring book                  100,000+  "
      ]
     },
     "execution_count": 596,
     "metadata": {},
     "output_type": "execute_result"
    }
   ],
   "source": [
    "apps_def= pd.DataFrame(diz).transpose()\n",
    "apps_def.columns= ['Genre', 'Average Rating', 'Size', 'Downloads']\n",
    "apps_def.index.name= 'App Name'\n",
    "apps_def.head()"
   ]
  },
  {
   "cell_type": "code",
   "execution_count": 597,
   "metadata": {},
   "outputs": [
    {
     "data": {
      "text/html": [
       "<div>\n",
       "<style scoped>\n",
       "    .dataframe tbody tr th:only-of-type {\n",
       "        vertical-align: middle;\n",
       "    }\n",
       "\n",
       "    .dataframe tbody tr th {\n",
       "        vertical-align: top;\n",
       "    }\n",
       "\n",
       "    .dataframe thead th {\n",
       "        text-align: right;\n",
       "    }\n",
       "</style>\n",
       "<table border=\"1\" class=\"dataframe\">\n",
       "  <thead>\n",
       "    <tr style=\"text-align: right;\">\n",
       "      <th></th>\n",
       "      <th>Genre</th>\n",
       "      <th>Average Rating</th>\n",
       "      <th>Size</th>\n",
       "      <th>Downloads</th>\n",
       "    </tr>\n",
       "    <tr>\n",
       "      <th>App Name</th>\n",
       "      <th></th>\n",
       "      <th></th>\n",
       "      <th></th>\n",
       "      <th></th>\n",
       "    </tr>\n",
       "  </thead>\n",
       "  <tbody>\n",
       "    <tr>\n",
       "      <th>photo editor &amp; candy camera &amp; grid &amp; scrapbook</th>\n",
       "      <td>Art &amp; Design</td>\n",
       "      <td>4.1</td>\n",
       "      <td>19M</td>\n",
       "      <td>10,000</td>\n",
       "    </tr>\n",
       "    <tr>\n",
       "      <th>coloring book moana</th>\n",
       "      <td>Art &amp; Design;Pretend Play</td>\n",
       "      <td>3.9</td>\n",
       "      <td>14M</td>\n",
       "      <td>500,000</td>\n",
       "    </tr>\n",
       "    <tr>\n",
       "      <th>u launcher lite – free live cool themes, hide apps</th>\n",
       "      <td>Art &amp; Design</td>\n",
       "      <td>4.7</td>\n",
       "      <td>8.7M</td>\n",
       "      <td>5,000,000</td>\n",
       "    </tr>\n",
       "    <tr>\n",
       "      <th>sketch - draw &amp; paint</th>\n",
       "      <td>Art &amp; Design</td>\n",
       "      <td>4.5</td>\n",
       "      <td>25M</td>\n",
       "      <td>50,000,000</td>\n",
       "    </tr>\n",
       "    <tr>\n",
       "      <th>pixel draw - number art coloring book</th>\n",
       "      <td>Art &amp; Design;Creativity</td>\n",
       "      <td>4.3</td>\n",
       "      <td>2.8M</td>\n",
       "      <td>100,000</td>\n",
       "    </tr>\n",
       "  </tbody>\n",
       "</table>\n",
       "</div>"
      ],
      "text/plain": [
       "                                                                        Genre  \\\n",
       "App Name                                                                        \n",
       "photo editor & candy camera & grid & scrapbook                   Art & Design   \n",
       "coloring book moana                                 Art & Design;Pretend Play   \n",
       "u launcher lite – free live cool themes, hide apps               Art & Design   \n",
       "sketch - draw & paint                                            Art & Design   \n",
       "pixel draw - number art coloring book                 Art & Design;Creativity   \n",
       "\n",
       "                                                   Average Rating  Size  \\\n",
       "App Name                                                                  \n",
       "photo editor & candy camera & grid & scrapbook                4.1   19M   \n",
       "coloring book moana                                           3.9   14M   \n",
       "u launcher lite – free live cool themes, hide apps            4.7  8.7M   \n",
       "sketch - draw & paint                                         4.5   25M   \n",
       "pixel draw - number art coloring book                         4.3  2.8M   \n",
       "\n",
       "                                                     Downloads  \n",
       "App Name                                                        \n",
       "photo editor & candy camera & grid & scrapbook          10,000  \n",
       "coloring book moana                                    500,000  \n",
       "u launcher lite – free live cool themes, hide apps   5,000,000  \n",
       "sketch - draw & paint                               50,000,000  \n",
       "pixel draw - number art coloring book                  100,000  "
      ]
     },
     "execution_count": 597,
     "metadata": {},
     "output_type": "execute_result"
    }
   ],
   "source": [
    "apps_def['Downloads']= apps_def['Downloads'].apply(lambda n: n[: len(n)-1])\n",
    "apps_def.head()"
   ]
  },
  {
   "cell_type": "markdown",
   "metadata": {},
   "source": [
    "### Ho finito con tabella APPS. Importo Developers"
   ]
  },
  {
   "cell_type": "code",
   "execution_count": 236,
   "metadata": {},
   "outputs": [
    {
     "data": {
      "text/html": [
       "<div>\n",
       "<style scoped>\n",
       "    .dataframe tbody tr th:only-of-type {\n",
       "        vertical-align: middle;\n",
       "    }\n",
       "\n",
       "    .dataframe tbody tr th {\n",
       "        vertical-align: top;\n",
       "    }\n",
       "\n",
       "    .dataframe thead th {\n",
       "        text-align: right;\n",
       "    }\n",
       "</style>\n",
       "<table border=\"1\" class=\"dataframe\">\n",
       "  <thead>\n",
       "    <tr style=\"text-align: right;\">\n",
       "      <th></th>\n",
       "      <th>E-mail</th>\n",
       "      <th>Foundation year</th>\n",
       "      <th>State</th>\n",
       "    </tr>\n",
       "    <tr>\n",
       "      <th>Company</th>\n",
       "      <th></th>\n",
       "      <th></th>\n",
       "      <th></th>\n",
       "    </tr>\n",
       "  </thead>\n",
       "  <tbody>\n",
       "    <tr>\n",
       "      <th>Kostant Infosolutions</th>\n",
       "      <td>sales@konstantinfo.com</td>\n",
       "      <td>2003</td>\n",
       "      <td>India</td>\n",
       "    </tr>\n",
       "    <tr>\n",
       "      <th>Dom &amp; Tom</th>\n",
       "      <td>hello@domandtom.com</td>\n",
       "      <td>2009</td>\n",
       "      <td>USA</td>\n",
       "    </tr>\n",
       "    <tr>\n",
       "      <th>Intellectsoft</th>\n",
       "      <td>info@intellectsoft.net</td>\n",
       "      <td>2007</td>\n",
       "      <td>USA</td>\n",
       "    </tr>\n",
       "    <tr>\n",
       "      <th>WillowTree</th>\n",
       "      <td>info@willowtreeapps.com</td>\n",
       "      <td>2007</td>\n",
       "      <td>USA</td>\n",
       "    </tr>\n",
       "    <tr>\n",
       "      <th>Fueled</th>\n",
       "      <td>nyc@fueled.com</td>\n",
       "      <td>2008</td>\n",
       "      <td>USA</td>\n",
       "    </tr>\n",
       "  </tbody>\n",
       "</table>\n",
       "</div>"
      ],
      "text/plain": [
       "                                        E-mail  Foundation year  State\n",
       "Company                                                               \n",
       "Kostant Infosolutions   sales@konstantinfo.com             2003  India\n",
       "Dom & Tom                  hello@domandtom.com             2009    USA\n",
       "Intellectsoft           info@intellectsoft.net             2007    USA\n",
       "WillowTree             info@willowtreeapps.com             2007    USA\n",
       "Fueled                          nyc@fueled.com             2008    USA"
      ]
     },
     "execution_count": 236,
     "metadata": {},
     "output_type": "execute_result"
    }
   ],
   "source": [
    "produttori= pd.read_excel(\"Developers.xlsx\")\n",
    "produttori.set_index('Company', inplace= True )\n",
    "produttori.head()"
   ]
  },
  {
   "cell_type": "code",
   "execution_count": 231,
   "metadata": {},
   "outputs": [
    {
     "data": {
      "text/plain": [
       "1020"
      ]
     },
     "execution_count": 231,
     "metadata": {},
     "output_type": "execute_result"
    }
   ],
   "source": [
    "len([app for app in list(reviews.App.unique()) if app in list(apps_def.index)])  #1020 apps recensite"
   ]
  },
  {
   "cell_type": "code",
   "execution_count": 232,
   "metadata": {},
   "outputs": [],
   "source": [
    "#0.025*16+ 0.1 + 0.25+ 0.05+ 0.2"
   ]
  },
  {
   "cell_type": "code",
   "execution_count": 233,
   "metadata": {},
   "outputs": [
    {
     "data": {
      "text/plain": [
       "20"
      ]
     },
     "execution_count": 233,
     "metadata": {},
     "output_type": "execute_result"
    }
   ],
   "source": [
    "probs= np.repeat(0.025, 16)\n",
    "probs= np.append(probs, [0.1, 0.25, 0.05, 0.2])\n",
    "len(probs)"
   ]
  },
  {
   "cell_type": "code",
   "execution_count": 762,
   "metadata": {},
   "outputs": [
    {
     "data": {
      "text/plain": [
       "Index(['Kostant Infosolutions', 'Dom & Tom', 'Intellectsoft', 'WillowTree',\n",
       "       'Fueled', 'Y Media Lab', 'TechAhead', 'Softeq', 'Appster',\n",
       "       'Affle Enterprise', 'Techugo', 'Dot Com Infoway', 'Dogtown Media',\n",
       "       'Techuz', 'Diceus', 'Cumulations Technologies', 'Apptunix', 'Infojini',\n",
       "       'Codiant Software Technologies', 'Minidinventory'],\n",
       "      dtype='object', name='Company')"
      ]
     },
     "execution_count": 762,
     "metadata": {},
     "output_type": "execute_result"
    }
   ],
   "source": [
    "produttori.index"
   ]
  },
  {
   "cell_type": "code",
   "execution_count": 598,
   "metadata": {},
   "outputs": [
    {
     "data": {
      "text/html": [
       "<div>\n",
       "<style scoped>\n",
       "    .dataframe tbody tr th:only-of-type {\n",
       "        vertical-align: middle;\n",
       "    }\n",
       "\n",
       "    .dataframe tbody tr th {\n",
       "        vertical-align: top;\n",
       "    }\n",
       "\n",
       "    .dataframe thead th {\n",
       "        text-align: right;\n",
       "    }\n",
       "</style>\n",
       "<table border=\"1\" class=\"dataframe\">\n",
       "  <thead>\n",
       "    <tr style=\"text-align: right;\">\n",
       "      <th></th>\n",
       "      <th>Genre</th>\n",
       "      <th>Average Rating</th>\n",
       "      <th>Size</th>\n",
       "      <th>Downloads</th>\n",
       "      <th>Producer Name</th>\n",
       "    </tr>\n",
       "    <tr>\n",
       "      <th>App Name</th>\n",
       "      <th></th>\n",
       "      <th></th>\n",
       "      <th></th>\n",
       "      <th></th>\n",
       "      <th></th>\n",
       "    </tr>\n",
       "  </thead>\n",
       "  <tbody>\n",
       "    <tr>\n",
       "      <th>photo editor &amp; candy camera &amp; grid &amp; scrapbook</th>\n",
       "      <td>Art &amp; Design</td>\n",
       "      <td>4.1</td>\n",
       "      <td>19M</td>\n",
       "      <td>10,000</td>\n",
       "      <td>Diceus</td>\n",
       "    </tr>\n",
       "    <tr>\n",
       "      <th>coloring book moana</th>\n",
       "      <td>Art &amp; Design;Pretend Play</td>\n",
       "      <td>3.9</td>\n",
       "      <td>14M</td>\n",
       "      <td>500,000</td>\n",
       "      <td>Intellectsoft</td>\n",
       "    </tr>\n",
       "    <tr>\n",
       "      <th>u launcher lite – free live cool themes, hide apps</th>\n",
       "      <td>Art &amp; Design</td>\n",
       "      <td>4.7</td>\n",
       "      <td>8.7M</td>\n",
       "      <td>5,000,000</td>\n",
       "      <td>Minidinventory</td>\n",
       "    </tr>\n",
       "    <tr>\n",
       "      <th>sketch - draw &amp; paint</th>\n",
       "      <td>Art &amp; Design</td>\n",
       "      <td>4.5</td>\n",
       "      <td>25M</td>\n",
       "      <td>50,000,000</td>\n",
       "      <td>Softeq</td>\n",
       "    </tr>\n",
       "    <tr>\n",
       "      <th>pixel draw - number art coloring book</th>\n",
       "      <td>Art &amp; Design;Creativity</td>\n",
       "      <td>4.3</td>\n",
       "      <td>2.8M</td>\n",
       "      <td>100,000</td>\n",
       "      <td>Infojini</td>\n",
       "    </tr>\n",
       "  </tbody>\n",
       "</table>\n",
       "</div>"
      ],
      "text/plain": [
       "                                                                        Genre  \\\n",
       "App Name                                                                        \n",
       "photo editor & candy camera & grid & scrapbook                   Art & Design   \n",
       "coloring book moana                                 Art & Design;Pretend Play   \n",
       "u launcher lite – free live cool themes, hide apps               Art & Design   \n",
       "sketch - draw & paint                                            Art & Design   \n",
       "pixel draw - number art coloring book                 Art & Design;Creativity   \n",
       "\n",
       "                                                   Average Rating  Size  \\\n",
       "App Name                                                                  \n",
       "photo editor & candy camera & grid & scrapbook                4.1   19M   \n",
       "coloring book moana                                           3.9   14M   \n",
       "u launcher lite – free live cool themes, hide apps            4.7  8.7M   \n",
       "sketch - draw & paint                                         4.5   25M   \n",
       "pixel draw - number art coloring book                         4.3  2.8M   \n",
       "\n",
       "                                                     Downloads   Producer Name  \n",
       "App Name                                                                        \n",
       "photo editor & candy camera & grid & scrapbook          10,000          Diceus  \n",
       "coloring book moana                                    500,000   Intellectsoft  \n",
       "u launcher lite – free live cool themes, hide apps   5,000,000  Minidinventory  \n",
       "sketch - draw & paint                               50,000,000          Softeq  \n",
       "pixel draw - number art coloring book                  100,000        Infojini  "
      ]
     },
     "execution_count": 598,
     "metadata": {},
     "output_type": "execute_result"
    }
   ],
   "source": [
    "apps_con_prod= apps_def\n",
    "apps_con_prod['Producer Name']= [np.random.choice(produttori.index, p= probs) for i in range(len(apps_con_prod))]\n",
    "apps_con_prod.head()"
   ]
  },
  {
   "cell_type": "code",
   "execution_count": 599,
   "metadata": {},
   "outputs": [],
   "source": [
    "apps_con_prod['Downloads']= apps_con_prod['Downloads'].apply(lambda s: s.split(',')[0])"
   ]
  },
  {
   "cell_type": "code",
   "execution_count": 600,
   "metadata": {},
   "outputs": [],
   "source": [
    "apps_con_prod['Downloads']= apps_con_prod['Downloads'].apply(lambda x: 1 if x== 'Fre' else x)"
   ]
  },
  {
   "cell_type": "code",
   "execution_count": 601,
   "metadata": {},
   "outputs": [],
   "source": [
    "apps_con_prod['Downloads']= apps_con_prod['Downloads'].apply(lambda x: 0 if x=='' else int(x))"
   ]
  },
  {
   "cell_type": "code",
   "execution_count": 602,
   "metadata": {},
   "outputs": [
    {
     "data": {
      "text/html": [
       "<div>\n",
       "<style scoped>\n",
       "    .dataframe tbody tr th:only-of-type {\n",
       "        vertical-align: middle;\n",
       "    }\n",
       "\n",
       "    .dataframe tbody tr th {\n",
       "        vertical-align: top;\n",
       "    }\n",
       "\n",
       "    .dataframe thead th {\n",
       "        text-align: right;\n",
       "    }\n",
       "</style>\n",
       "<table border=\"1\" class=\"dataframe\">\n",
       "  <thead>\n",
       "    <tr style=\"text-align: right;\">\n",
       "      <th></th>\n",
       "      <th>Genre</th>\n",
       "      <th>Average Rating</th>\n",
       "      <th>Size</th>\n",
       "      <th>Downloads</th>\n",
       "      <th>Producer Name</th>\n",
       "    </tr>\n",
       "    <tr>\n",
       "      <th>App Name</th>\n",
       "      <th></th>\n",
       "      <th></th>\n",
       "      <th></th>\n",
       "      <th></th>\n",
       "      <th></th>\n",
       "    </tr>\n",
       "  </thead>\n",
       "  <tbody>\n",
       "    <tr>\n",
       "      <th>photo editor &amp; candy camera &amp; grid &amp; scrapbook</th>\n",
       "      <td>Art &amp; Design</td>\n",
       "      <td>4.1</td>\n",
       "      <td>19</td>\n",
       "      <td>10</td>\n",
       "      <td>Diceus</td>\n",
       "    </tr>\n",
       "    <tr>\n",
       "      <th>coloring book moana</th>\n",
       "      <td>Art &amp; Design;Pretend Play</td>\n",
       "      <td>3.9</td>\n",
       "      <td>14</td>\n",
       "      <td>500</td>\n",
       "      <td>Intellectsoft</td>\n",
       "    </tr>\n",
       "  </tbody>\n",
       "</table>\n",
       "</div>"
      ],
      "text/plain": [
       "                                                                    Genre  \\\n",
       "App Name                                                                    \n",
       "photo editor & candy camera & grid & scrapbook               Art & Design   \n",
       "coloring book moana                             Art & Design;Pretend Play   \n",
       "\n",
       "                                               Average Rating Size  Downloads  \\\n",
       "App Name                                                                        \n",
       "photo editor & candy camera & grid & scrapbook            4.1   19         10   \n",
       "coloring book moana                                       3.9   14        500   \n",
       "\n",
       "                                                Producer Name  \n",
       "App Name                                                       \n",
       "photo editor & candy camera & grid & scrapbook         Diceus  \n",
       "coloring book moana                             Intellectsoft  "
      ]
     },
     "execution_count": 602,
     "metadata": {},
     "output_type": "execute_result"
    }
   ],
   "source": [
    "apps_con_prod['Size']= apps_con_prod['Size'].apply(lambda s: s[: len(s)-1])\n",
    "apps_con_prod.head(2)"
   ]
  },
  {
   "cell_type": "code",
   "execution_count": 603,
   "metadata": {},
   "outputs": [],
   "source": [
    "apps_con_prod['Size']= apps_con_prod['Size'].apply(lambda x: float(x) if len(x)<3 else float(10))"
   ]
  },
  {
   "cell_type": "code",
   "execution_count": 604,
   "metadata": {},
   "outputs": [],
   "source": [
    "apps_con_prod['Average Rating']= apps_con_prod['Average Rating'].apply(lambda x: 4.1 if np.isnan(x)== True else float(x))"
   ]
  },
  {
   "cell_type": "code",
   "execution_count": 605,
   "metadata": {},
   "outputs": [],
   "source": [
    "apps_con_prod= apps_con_prod.reset_index()"
   ]
  },
  {
   "cell_type": "code",
   "execution_count": 606,
   "metadata": {},
   "outputs": [
    {
     "name": "stdout",
     "output_type": "stream",
     "text": [
      "<class 'pandas.core.frame.DataFrame'>\n",
      "RangeIndex: 9639 entries, 0 to 9638\n",
      "Data columns (total 6 columns):\n",
      "App Name          9639 non-null object\n",
      "Genre             9639 non-null object\n",
      "Average Rating    9639 non-null float64\n",
      "Size              9639 non-null float64\n",
      "Downloads         9639 non-null int64\n",
      "Producer Name     9639 non-null object\n",
      "dtypes: float64(2), int64(1), object(3)\n",
      "memory usage: 451.9+ KB\n"
     ]
    }
   ],
   "source": [
    "apps_con_prod.info()"
   ]
  },
  {
   "cell_type": "markdown",
   "metadata": {},
   "source": [
    "## Creo Users"
   ]
  },
  {
   "cell_type": "code",
   "execution_count": 125,
   "metadata": {},
   "outputs": [],
   "source": [
    "from faker import Faker"
   ]
  },
  {
   "cell_type": "code",
   "execution_count": 138,
   "metadata": {},
   "outputs": [
    {
     "data": {
      "text/plain": [
       "'Turkmenistan'"
      ]
     },
     "execution_count": 138,
     "metadata": {},
     "output_type": "execute_result"
    }
   ],
   "source": [
    "fake = Faker() \n",
    "fake.country()"
   ]
  },
  {
   "cell_type": "code",
   "execution_count": 237,
   "metadata": {},
   "outputs": [
    {
     "data": {
      "text/html": [
       "<div>\n",
       "<style scoped>\n",
       "    .dataframe tbody tr th:only-of-type {\n",
       "        vertical-align: middle;\n",
       "    }\n",
       "\n",
       "    .dataframe tbody tr th {\n",
       "        vertical-align: top;\n",
       "    }\n",
       "\n",
       "    .dataframe thead th {\n",
       "        text-align: right;\n",
       "    }\n",
       "</style>\n",
       "<table border=\"1\" class=\"dataframe\">\n",
       "  <thead>\n",
       "    <tr style=\"text-align: right;\">\n",
       "      <th></th>\n",
       "    </tr>\n",
       "  </thead>\n",
       "  <tbody>\n",
       "  </tbody>\n",
       "</table>\n",
       "</div>"
      ],
      "text/plain": [
       "Empty DataFrame\n",
       "Columns: []\n",
       "Index: []"
      ]
     },
     "execution_count": 237,
     "metadata": {},
     "output_type": "execute_result"
    }
   ],
   "source": [
    "df_user= pd.DataFrame()\n",
    "df_user"
   ]
  },
  {
   "cell_type": "code",
   "execution_count": 282,
   "metadata": {},
   "outputs": [],
   "source": [
    "list_emails= [np.random.choice([fake.email(), fake.free_email()]) for i in range(80000)]"
   ]
  },
  {
   "cell_type": "code",
   "execution_count": 289,
   "metadata": {},
   "outputs": [
    {
     "data": {
      "text/plain": [
       "64295"
      ]
     },
     "execution_count": 289,
     "metadata": {},
     "output_type": "execute_result"
    }
   ],
   "source": [
    "#len(np.random.choice(list_emails, size= 64295, replace= False))"
   ]
  },
  {
   "cell_type": "code",
   "execution_count": 266,
   "metadata": {},
   "outputs": [],
   "source": [
    "df_user['User_ID']= np.arange(64295)\n",
    "df_user['User Name']= [fake.name() for i in range(64295)]\n",
    "df_user['User Country']= [fake.country() for i in range(64295)]\n",
    "df_user['Email Address']= np.random.choice(list_emails, size= 64295, replace= False)\n",
    "df_user['Gender']= [np.random.choice([\"M\", \"F\",\"Not Specified\"] , p=[0.35, 0.5,0.15]) for i in range(64295)]\n",
    "df_user['Age']= [np.random.choice(np.arange(18, 65)) for i in range(64295)]\n",
    "df_user['Phone']= [np.random.choice(['Samsung', 'Huawei', 'IPhone', 'Xiaomi'], p=[0.3, 0.2, 0.4, 0.1])for i in range(64295)]"
   ]
  },
  {
   "cell_type": "code",
   "execution_count": 290,
   "metadata": {},
   "outputs": [
    {
     "data": {
      "text/html": [
       "<div>\n",
       "<style scoped>\n",
       "    .dataframe tbody tr th:only-of-type {\n",
       "        vertical-align: middle;\n",
       "    }\n",
       "\n",
       "    .dataframe tbody tr th {\n",
       "        vertical-align: top;\n",
       "    }\n",
       "\n",
       "    .dataframe thead th {\n",
       "        text-align: right;\n",
       "    }\n",
       "</style>\n",
       "<table border=\"1\" class=\"dataframe\">\n",
       "  <thead>\n",
       "    <tr style=\"text-align: right;\">\n",
       "      <th></th>\n",
       "      <th>User Name</th>\n",
       "      <th>User Country</th>\n",
       "      <th>Gender</th>\n",
       "      <th>Age</th>\n",
       "      <th>Phone</th>\n",
       "      <th>Email Address</th>\n",
       "    </tr>\n",
       "    <tr>\n",
       "      <th>User_ID</th>\n",
       "      <th></th>\n",
       "      <th></th>\n",
       "      <th></th>\n",
       "      <th></th>\n",
       "      <th></th>\n",
       "      <th></th>\n",
       "    </tr>\n",
       "  </thead>\n",
       "  <tbody>\n",
       "    <tr>\n",
       "      <th>0</th>\n",
       "      <td>Elizabeth James</td>\n",
       "      <td>Tokelau</td>\n",
       "      <td>F</td>\n",
       "      <td>45</td>\n",
       "      <td>IPhone</td>\n",
       "      <td>norrisroberto@gmail.com</td>\n",
       "    </tr>\n",
       "    <tr>\n",
       "      <th>1</th>\n",
       "      <td>Patty Anderson</td>\n",
       "      <td>Palestinian Territory</td>\n",
       "      <td>F</td>\n",
       "      <td>54</td>\n",
       "      <td>IPhone</td>\n",
       "      <td>duranwhitney@hotmail.com</td>\n",
       "    </tr>\n",
       "    <tr>\n",
       "      <th>2</th>\n",
       "      <td>Robert Reilly</td>\n",
       "      <td>Estonia</td>\n",
       "      <td>F</td>\n",
       "      <td>36</td>\n",
       "      <td>Samsung</td>\n",
       "      <td>richardgray@hotmail.com</td>\n",
       "    </tr>\n",
       "    <tr>\n",
       "      <th>3</th>\n",
       "      <td>Christy Miles</td>\n",
       "      <td>Singapore</td>\n",
       "      <td>F</td>\n",
       "      <td>34</td>\n",
       "      <td>IPhone</td>\n",
       "      <td>henry33@hotmail.com</td>\n",
       "    </tr>\n",
       "    <tr>\n",
       "      <th>4</th>\n",
       "      <td>Tammy Bush</td>\n",
       "      <td>Madagascar</td>\n",
       "      <td>F</td>\n",
       "      <td>53</td>\n",
       "      <td>Huawei</td>\n",
       "      <td>emilygarcia@yahoo.com</td>\n",
       "    </tr>\n",
       "  </tbody>\n",
       "</table>\n",
       "</div>"
      ],
      "text/plain": [
       "               User Name           User Country Gender  Age    Phone  \\\n",
       "User_ID                                                                \n",
       "0        Elizabeth James                Tokelau      F   45   IPhone   \n",
       "1         Patty Anderson  Palestinian Territory      F   54   IPhone   \n",
       "2          Robert Reilly                Estonia      F   36  Samsung   \n",
       "3          Christy Miles              Singapore      F   34   IPhone   \n",
       "4             Tammy Bush             Madagascar      F   53   Huawei   \n",
       "\n",
       "                    Email Address  \n",
       "User_ID                            \n",
       "0         norrisroberto@gmail.com  \n",
       "1        duranwhitney@hotmail.com  \n",
       "2         richardgray@hotmail.com  \n",
       "3             henry33@hotmail.com  \n",
       "4           emilygarcia@yahoo.com  "
      ]
     },
     "execution_count": 290,
     "metadata": {},
     "output_type": "execute_result"
    }
   ],
   "source": [
    "df_user.set_index('User_ID', inplace=True)\n",
    "df_user.head()"
   ]
  },
  {
   "cell_type": "markdown",
   "metadata": {},
   "source": [
    "Tolgo doppioni delle mails, perchè devono essere la chiave"
   ]
  },
  {
   "cell_type": "code",
   "execution_count": 334,
   "metadata": {},
   "outputs": [
    {
     "name": "stdout",
     "output_type": "stream",
     "text": [
      "n° utenti in tabella users è :  57213\n"
     ]
    }
   ],
   "source": [
    "print('n° utenti in tabella users è : ', len(df_user['Email Address'].value_counts()[df_user['Email Address'].value_counts()==1])) #57213 users\n",
    "unique_mails= list(df_user['Email Address'].value_counts()[df_user['Email Address'].value_counts()==1].index)\n",
    "df_user_def= df_user[df_user['Email Address'].isin(unique_mails)]"
   ]
  },
  {
   "cell_type": "code",
   "execution_count": 358,
   "metadata": {},
   "outputs": [
    {
     "data": {
      "text/html": [
       "<div>\n",
       "<style scoped>\n",
       "    .dataframe tbody tr th:only-of-type {\n",
       "        vertical-align: middle;\n",
       "    }\n",
       "\n",
       "    .dataframe tbody tr th {\n",
       "        vertical-align: top;\n",
       "    }\n",
       "\n",
       "    .dataframe thead th {\n",
       "        text-align: right;\n",
       "    }\n",
       "</style>\n",
       "<table border=\"1\" class=\"dataframe\">\n",
       "  <thead>\n",
       "    <tr style=\"text-align: right;\">\n",
       "      <th></th>\n",
       "      <th>User Name</th>\n",
       "      <th>User Country</th>\n",
       "      <th>Gender</th>\n",
       "      <th>Age</th>\n",
       "      <th>Phone</th>\n",
       "      <th>Email Address</th>\n",
       "    </tr>\n",
       "    <tr>\n",
       "      <th>User_ID</th>\n",
       "      <th></th>\n",
       "      <th></th>\n",
       "      <th></th>\n",
       "      <th></th>\n",
       "      <th></th>\n",
       "      <th></th>\n",
       "    </tr>\n",
       "  </thead>\n",
       "  <tbody>\n",
       "    <tr>\n",
       "      <th>0</th>\n",
       "      <td>Elizabeth James</td>\n",
       "      <td>Tokelau</td>\n",
       "      <td>F</td>\n",
       "      <td>45</td>\n",
       "      <td>IPhone</td>\n",
       "      <td>norrisroberto@gmail.com</td>\n",
       "    </tr>\n",
       "    <tr>\n",
       "      <th>1</th>\n",
       "      <td>Patty Anderson</td>\n",
       "      <td>Palestinian Territory</td>\n",
       "      <td>F</td>\n",
       "      <td>54</td>\n",
       "      <td>IPhone</td>\n",
       "      <td>duranwhitney@hotmail.com</td>\n",
       "    </tr>\n",
       "    <tr>\n",
       "      <th>2</th>\n",
       "      <td>Robert Reilly</td>\n",
       "      <td>Estonia</td>\n",
       "      <td>F</td>\n",
       "      <td>36</td>\n",
       "      <td>Samsung</td>\n",
       "      <td>richardgray@hotmail.com</td>\n",
       "    </tr>\n",
       "    <tr>\n",
       "      <th>3</th>\n",
       "      <td>Christy Miles</td>\n",
       "      <td>Singapore</td>\n",
       "      <td>F</td>\n",
       "      <td>34</td>\n",
       "      <td>IPhone</td>\n",
       "      <td>henry33@hotmail.com</td>\n",
       "    </tr>\n",
       "    <tr>\n",
       "      <th>5</th>\n",
       "      <td>Lisa Peters</td>\n",
       "      <td>Oman</td>\n",
       "      <td>M</td>\n",
       "      <td>34</td>\n",
       "      <td>Samsung</td>\n",
       "      <td>gordonleslie@gmail.com</td>\n",
       "    </tr>\n",
       "  </tbody>\n",
       "</table>\n",
       "</div>"
      ],
      "text/plain": [
       "               User Name           User Country Gender  Age    Phone  \\\n",
       "User_ID                                                                \n",
       "0        Elizabeth James                Tokelau      F   45   IPhone   \n",
       "1         Patty Anderson  Palestinian Territory      F   54   IPhone   \n",
       "2          Robert Reilly                Estonia      F   36  Samsung   \n",
       "3          Christy Miles              Singapore      F   34   IPhone   \n",
       "5            Lisa Peters                   Oman      M   34  Samsung   \n",
       "\n",
       "                    Email Address  \n",
       "User_ID                            \n",
       "0         norrisroberto@gmail.com  \n",
       "1        duranwhitney@hotmail.com  \n",
       "2         richardgray@hotmail.com  \n",
       "3             henry33@hotmail.com  \n",
       "5          gordonleslie@gmail.com  "
      ]
     },
     "execution_count": 358,
     "metadata": {},
     "output_type": "execute_result"
    }
   ],
   "source": [
    "df_user_def.head()"
   ]
  },
  {
   "cell_type": "markdown",
   "metadata": {},
   "source": [
    "## Ultima Tabella: Reviews"
   ]
  },
  {
   "cell_type": "code",
   "execution_count": 761,
   "metadata": {},
   "outputs": [
    {
     "data": {
      "text/html": [
       "<div>\n",
       "<style scoped>\n",
       "    .dataframe tbody tr th:only-of-type {\n",
       "        vertical-align: middle;\n",
       "    }\n",
       "\n",
       "    .dataframe tbody tr th {\n",
       "        vertical-align: top;\n",
       "    }\n",
       "\n",
       "    .dataframe thead th {\n",
       "        text-align: right;\n",
       "    }\n",
       "</style>\n",
       "<table border=\"1\" class=\"dataframe\">\n",
       "  <thead>\n",
       "    <tr style=\"text-align: right;\">\n",
       "      <th></th>\n",
       "      <th>App</th>\n",
       "      <th>Translated_Review</th>\n",
       "      <th>Sentiment</th>\n",
       "      <th>Sentiment_Polarity</th>\n",
       "      <th>Sentiment_Subjectivity</th>\n",
       "    </tr>\n",
       "  </thead>\n",
       "  <tbody>\n",
       "    <tr>\n",
       "      <th>0</th>\n",
       "      <td>10 Best Foods for You</td>\n",
       "      <td>I like eat delicious food. That's I'm cooking ...</td>\n",
       "      <td>Positive</td>\n",
       "      <td>1.00</td>\n",
       "      <td>0.533333</td>\n",
       "    </tr>\n",
       "    <tr>\n",
       "      <th>1</th>\n",
       "      <td>10 Best Foods for You</td>\n",
       "      <td>This help eating healthy exercise regular basis</td>\n",
       "      <td>Positive</td>\n",
       "      <td>0.25</td>\n",
       "      <td>0.288462</td>\n",
       "    </tr>\n",
       "    <tr>\n",
       "      <th>2</th>\n",
       "      <td>10 Best Foods for You</td>\n",
       "      <td>NaN</td>\n",
       "      <td>NaN</td>\n",
       "      <td>NaN</td>\n",
       "      <td>NaN</td>\n",
       "    </tr>\n",
       "  </tbody>\n",
       "</table>\n",
       "</div>"
      ],
      "text/plain": [
       "                     App                                  Translated_Review  \\\n",
       "0  10 Best Foods for You  I like eat delicious food. That's I'm cooking ...   \n",
       "1  10 Best Foods for You    This help eating healthy exercise regular basis   \n",
       "2  10 Best Foods for You                                                NaN   \n",
       "\n",
       "  Sentiment  Sentiment_Polarity  Sentiment_Subjectivity  \n",
       "0  Positive                1.00                0.533333  \n",
       "1  Positive                0.25                0.288462  \n",
       "2       NaN                 NaN                     NaN  "
      ]
     },
     "execution_count": 761,
     "metadata": {},
     "output_type": "execute_result"
    }
   ],
   "source": [
    "pd.read_csv(\"googleplaystore_user_reviews.csv\").head(3)"
   ]
  },
  {
   "cell_type": "code",
   "execution_count": 723,
   "metadata": {},
   "outputs": [
    {
     "data": {
      "text/html": [
       "<div>\n",
       "<style scoped>\n",
       "    .dataframe tbody tr th:only-of-type {\n",
       "        vertical-align: middle;\n",
       "    }\n",
       "\n",
       "    .dataframe tbody tr th {\n",
       "        vertical-align: top;\n",
       "    }\n",
       "\n",
       "    .dataframe thead th {\n",
       "        text-align: right;\n",
       "    }\n",
       "</style>\n",
       "<table border=\"1\" class=\"dataframe\">\n",
       "  <thead>\n",
       "    <tr style=\"text-align: right;\">\n",
       "      <th></th>\n",
       "      <th>App</th>\n",
       "      <th>Translated_Review</th>\n",
       "      <th>Sentiment</th>\n",
       "    </tr>\n",
       "  </thead>\n",
       "  <tbody>\n",
       "    <tr>\n",
       "      <th>0</th>\n",
       "      <td>10 Best Foods for You</td>\n",
       "      <td>I like eat delicious food. That's I'm cooking ...</td>\n",
       "      <td>Positive</td>\n",
       "    </tr>\n",
       "    <tr>\n",
       "      <th>1</th>\n",
       "      <td>10 Best Foods for You</td>\n",
       "      <td>This help eating healthy exercise regular basis</td>\n",
       "      <td>Positive</td>\n",
       "    </tr>\n",
       "    <tr>\n",
       "      <th>2</th>\n",
       "      <td>10 Best Foods for You</td>\n",
       "      <td>NaN</td>\n",
       "      <td>NaN</td>\n",
       "    </tr>\n",
       "    <tr>\n",
       "      <th>3</th>\n",
       "      <td>10 Best Foods for You</td>\n",
       "      <td>Works great especially going grocery store</td>\n",
       "      <td>Positive</td>\n",
       "    </tr>\n",
       "    <tr>\n",
       "      <th>4</th>\n",
       "      <td>10 Best Foods for You</td>\n",
       "      <td>Best idea us</td>\n",
       "      <td>Positive</td>\n",
       "    </tr>\n",
       "  </tbody>\n",
       "</table>\n",
       "</div>"
      ],
      "text/plain": [
       "                     App                                  Translated_Review  \\\n",
       "0  10 Best Foods for You  I like eat delicious food. That's I'm cooking ...   \n",
       "1  10 Best Foods for You    This help eating healthy exercise regular basis   \n",
       "2  10 Best Foods for You                                                NaN   \n",
       "3  10 Best Foods for You         Works great especially going grocery store   \n",
       "4  10 Best Foods for You                                       Best idea us   \n",
       "\n",
       "  Sentiment  \n",
       "0  Positive  \n",
       "1  Positive  \n",
       "2       NaN  \n",
       "3  Positive  \n",
       "4  Positive  "
      ]
     },
     "execution_count": 723,
     "metadata": {},
     "output_type": "execute_result"
    }
   ],
   "source": [
    "reviews= pd.read_csv(\"googleplaystore_user_reviews.csv\")[['App', 'Translated_Review', 'Sentiment']]\n",
    "reviews.head()"
   ]
  },
  {
   "cell_type": "code",
   "execution_count": 724,
   "metadata": {},
   "outputs": [
    {
     "data": {
      "text/html": [
       "<div>\n",
       "<style scoped>\n",
       "    .dataframe tbody tr th:only-of-type {\n",
       "        vertical-align: middle;\n",
       "    }\n",
       "\n",
       "    .dataframe tbody tr th {\n",
       "        vertical-align: top;\n",
       "    }\n",
       "\n",
       "    .dataframe thead th {\n",
       "        text-align: right;\n",
       "    }\n",
       "</style>\n",
       "<table border=\"1\" class=\"dataframe\">\n",
       "  <thead>\n",
       "    <tr style=\"text-align: right;\">\n",
       "      <th></th>\n",
       "      <th>App</th>\n",
       "      <th>Review</th>\n",
       "      <th>Sentiment</th>\n",
       "      <th>User Email</th>\n",
       "    </tr>\n",
       "  </thead>\n",
       "  <tbody>\n",
       "    <tr>\n",
       "      <th>0</th>\n",
       "      <td>10 Best Foods for You</td>\n",
       "      <td>I like eat delicious food. That's I'm cooking ...</td>\n",
       "      <td>Positive</td>\n",
       "      <td>norrisroberto@gmail.com</td>\n",
       "    </tr>\n",
       "    <tr>\n",
       "      <th>1</th>\n",
       "      <td>10 Best Foods for You</td>\n",
       "      <td>This help eating healthy exercise regular basis</td>\n",
       "      <td>Positive</td>\n",
       "      <td>duranwhitney@hotmail.com</td>\n",
       "    </tr>\n",
       "    <tr>\n",
       "      <th>2</th>\n",
       "      <td>10 Best Foods for You</td>\n",
       "      <td>NaN</td>\n",
       "      <td>NaN</td>\n",
       "      <td>richardgray@hotmail.com</td>\n",
       "    </tr>\n",
       "    <tr>\n",
       "      <th>3</th>\n",
       "      <td>10 Best Foods for You</td>\n",
       "      <td>Works great especially going grocery store</td>\n",
       "      <td>Positive</td>\n",
       "      <td>henry33@hotmail.com</td>\n",
       "    </tr>\n",
       "    <tr>\n",
       "      <th>4</th>\n",
       "      <td>10 Best Foods for You</td>\n",
       "      <td>Best idea us</td>\n",
       "      <td>Positive</td>\n",
       "      <td>NaN</td>\n",
       "    </tr>\n",
       "  </tbody>\n",
       "</table>\n",
       "</div>"
      ],
      "text/plain": [
       "                     App                                             Review  \\\n",
       "0  10 Best Foods for You  I like eat delicious food. That's I'm cooking ...   \n",
       "1  10 Best Foods for You    This help eating healthy exercise regular basis   \n",
       "2  10 Best Foods for You                                                NaN   \n",
       "3  10 Best Foods for You         Works great especially going grocery store   \n",
       "4  10 Best Foods for You                                       Best idea us   \n",
       "\n",
       "  Sentiment                User Email  \n",
       "0  Positive   norrisroberto@gmail.com  \n",
       "1  Positive  duranwhitney@hotmail.com  \n",
       "2       NaN   richardgray@hotmail.com  \n",
       "3  Positive       henry33@hotmail.com  \n",
       "4  Positive                       NaN  "
      ]
     },
     "execution_count": 724,
     "metadata": {},
     "output_type": "execute_result"
    }
   ],
   "source": [
    "reviews_def= reviews.join(df_user_def)[[col for col in list(reviews.columns)+['Email Address']]]\n",
    "reviews_def.columns= ['App', 'Review', 'Sentiment', 'User Email']\n",
    "reviews_def.head()"
   ]
  },
  {
   "cell_type": "code",
   "execution_count": 370,
   "metadata": {},
   "outputs": [
    {
     "data": {
      "text/plain": [
       "App                                       10 Best Foods for You\n",
       "Review        I like eat delicious food. That's I'm cooking ...\n",
       "Sentiment                                              Positive\n",
       "User Email                              norrisroberto@gmail.com\n",
       "Name: 0, dtype: object"
      ]
     },
     "execution_count": 370,
     "metadata": {},
     "output_type": "execute_result"
    }
   ],
   "source": [
    "reviews_def.iloc[0]"
   ]
  },
  {
   "cell_type": "code",
   "execution_count": 635,
   "metadata": {},
   "outputs": [
    {
     "data": {
      "text/plain": [
       "64295"
      ]
     },
     "execution_count": 635,
     "metadata": {},
     "output_type": "execute_result"
    }
   ],
   "source": [
    "len(reviews_def)"
   ]
  },
  {
   "cell_type": "code",
   "execution_count": 636,
   "metadata": {},
   "outputs": [
    {
     "data": {
      "text/plain": [
       "Index(['App', 'Review', 'Sentiment', 'User Email'], dtype='object')"
      ]
     },
     "execution_count": 636,
     "metadata": {},
     "output_type": "execute_result"
    }
   ],
   "source": [
    "reviews_def.columns"
   ]
  },
  {
   "cell_type": "code",
   "execution_count": 637,
   "metadata": {},
   "outputs": [
    {
     "data": {
      "text/plain": [
       "57213"
      ]
     },
     "execution_count": 637,
     "metadata": {},
     "output_type": "execute_result"
    }
   ],
   "source": [
    "reviews_def_cleaned = reviews_def.dropna(subset=['App', 'User Email'])\n",
    "len(reviews_def_cleaned)"
   ]
  },
  {
   "cell_type": "code",
   "execution_count": 648,
   "metadata": {},
   "outputs": [],
   "source": [
    "ultima_reviews= reviews_def_cleaned.iloc[np.random.choice(list(reviews_def_cleaned.reset_index().index), size= 10000, replace= False)]"
   ]
  },
  {
   "cell_type": "code",
   "execution_count": 649,
   "metadata": {},
   "outputs": [
    {
     "data": {
      "text/plain": [
       "10000"
      ]
     },
     "execution_count": 649,
     "metadata": {},
     "output_type": "execute_result"
    }
   ],
   "source": [
    "len(ultima_reviews)"
   ]
  },
  {
   "cell_type": "markdown",
   "metadata": {},
   "source": [
    "#### FILTRA REVIEWS PRENDENDO SOLO QUELLE CHE HANNO APP IN TABELLA APPS E EMAIL IN TABELLA USER"
   ]
  },
  {
   "cell_type": "code",
   "execution_count": 695,
   "metadata": {},
   "outputs": [
    {
     "name": "stderr",
     "output_type": "stream",
     "text": [
      "C:\\Users\\feder\\AppData\\Local\\Continuum\\anaconda3\\lib\\site-packages\\ipykernel_launcher.py:1: SettingWithCopyWarning: \n",
      "A value is trying to be set on a copy of a slice from a DataFrame.\n",
      "Try using .loc[row_indexer,col_indexer] = value instead\n",
      "\n",
      "See the caveats in the documentation: http://pandas.pydata.org/pandas-docs/stable/indexing.html#indexing-view-versus-copy\n",
      "  \"\"\"Entry point for launching an IPython kernel.\n"
     ]
    }
   ],
   "source": [
    "reviews_def_cleaned['App']= reviews_def_cleaned['App'].apply(lambda x: x.lower())"
   ]
  },
  {
   "cell_type": "code",
   "execution_count": 690,
   "metadata": {},
   "outputs": [],
   "source": [
    "app_in_reviews = [app.lower() for app in list(reviews_def_cleaned['App'].unique())]"
   ]
  },
  {
   "cell_type": "code",
   "execution_count": 692,
   "metadata": {},
   "outputs": [
    {
     "data": {
      "text/plain": [
       "1020"
      ]
     },
     "execution_count": 692,
     "metadata": {},
     "output_type": "execute_result"
    }
   ],
   "source": [
    "app_comuni = [app for app in app_in_reviews if app in list(apps_con_prod['App Name'].unique())]\n",
    "len(app_comuni)"
   ]
  },
  {
   "cell_type": "code",
   "execution_count": 704,
   "metadata": {},
   "outputs": [],
   "source": [
    "apps_con_prod.columns= ['AppName', 'Genre', 'Average Rating', 'Size', 'Downloads',\n",
    "       'Producer Name']"
   ]
  },
  {
   "cell_type": "code",
   "execution_count": 713,
   "metadata": {},
   "outputs": [],
   "source": [
    "reviews_def_cleaned.columns= ['App', 'Review', 'Sentiment', 'UserEmail']"
   ]
  },
  {
   "cell_type": "code",
   "execution_count": 720,
   "metadata": {},
   "outputs": [],
   "source": [
    "ultima_reviews= reviews_def_cleaned[reviews_def_cleaned.App.isin(apps_con_prod.AppName) & reviews_def_cleaned.UserEmail.isin(df_user_def['Email Address'])]"
   ]
  },
  {
   "cell_type": "markdown",
   "metadata": {},
   "source": [
    "### Esporto tutto in file excels"
   ]
  },
  {
   "cell_type": "code",
   "execution_count": 721,
   "metadata": {},
   "outputs": [],
   "source": [
    "ultima_reviews.to_excel('Reviews_def.xlsx')"
   ]
  },
  {
   "cell_type": "code",
   "execution_count": 362,
   "metadata": {},
   "outputs": [],
   "source": [
    "df_user_def.to_excel('User_def.xlsx')"
   ]
  },
  {
   "cell_type": "code",
   "execution_count": 607,
   "metadata": {},
   "outputs": [],
   "source": [
    "apps_con_prod.to_excel('Apps_def.xlsx')"
   ]
  },
  {
   "cell_type": "code",
   "execution_count": 364,
   "metadata": {},
   "outputs": [],
   "source": [
    "# produttori non la esporto perchè ho già il file excel"
   ]
  },
  {
   "cell_type": "code",
   "execution_count": null,
   "metadata": {},
   "outputs": [],
   "source": [
    "###########################################################################################"
   ]
  },
  {
   "cell_type": "markdown",
   "metadata": {},
   "source": [
    "### Inserisco righe"
   ]
  },
  {
   "cell_type": "markdown",
   "metadata": {},
   "source": [
    "20 righe di tabella produttori"
   ]
  },
  {
   "cell_type": "code",
   "execution_count": 407,
   "metadata": {},
   "outputs": [
    {
     "data": {
      "text/plain": [
       "[('Kostant Infosolutions', 'sales@konstantinfo.com', 2003, 'India'),\n",
       " ('Dom & Tom', 'hello@domandtom.com', 2009, 'USA'),\n",
       " ('Intellectsoft', 'info@intellectsoft.net', 2007, 'USA'),\n",
       " ('WillowTree', 'info@willowtreeapps.com', 2007, 'USA'),\n",
       " ('Fueled', 'nyc@fueled.com', 2008, 'USA'),\n",
       " ('Y Media Lab', 'info@ymedialabs.com', 2008, 'USA'),\n",
       " ('TechAhead', 'sales@techaheadcorp.com', 2009, 'USA'),\n",
       " ('Softeq', 'info@softeq.com', 1997, 'USA'),\n",
       " ('Appster', 'sales@appster.com.au', 2011, 'Australia'),\n",
       " ('Affle Enterprise', 'enterprise@affle.com', 2005, 'Singapore'),\n",
       " ('Techugo', 'sales@techugo.com', 2015, 'India'),\n",
       " ('Dot Com Infoway', 'ask@dotcominfoway.com', 2000, 'India'),\n",
       " ('Dogtown Media', 'contact@dogtownmedia.com', 2011, 'USA'),\n",
       " ('Techuz', 'sales@techuz.com', 2014, 'India'),\n",
       " ('Diceus', 'info@diceus.com', 2011, 'Ukraine'),\n",
       " ('Cumulations Technologies', 'sales@cumulations.com', 2012, 'India'),\n",
       " ('Apptunix', 'info@apptunix.com', 2013, 'India'),\n",
       " ('Infojini', 'contactus@infojiniconsulting.com', 2006, 'USA'),\n",
       " ('Codiant Software Technologies', 'im@codiant.com', 2010, 'UK '),\n",
       " ('Minidinventory', 'sales@mindinventory.com', 2011, 'India')]"
      ]
     },
     "execution_count": 407,
     "metadata": {},
     "output_type": "execute_result"
    }
   ],
   "source": [
    "list(map(tuple, produttori.reset_index().values))"
   ]
  },
  {
   "cell_type": "code",
   "execution_count": 419,
   "metadata": {},
   "outputs": [
    {
     "data": {
      "text/plain": [
       "('Elizabeth James', 'Tokelau', 'F', 45, 'IPhone', 'norrisroberto@gmail.com')"
      ]
     },
     "execution_count": 419,
     "metadata": {},
     "output_type": "execute_result"
    }
   ],
   "source": [
    "list(map(tuple, df_user_def.values))[0]"
   ]
  },
  {
   "cell_type": "code",
   "execution_count": 611,
   "metadata": {},
   "outputs": [],
   "source": [
    "file_apps = open(\"Insert_Apps.txt\", \"w\")\n",
    "for i in range(len(apps_con_prod)):  #len(df_user_def)  10281, len(df_user_def)\n",
    "    try:\n",
    "        file_apps.write(str(list(map(tuple, apps_con_prod.values))[i]) + '\\n')\n",
    "    except:\n",
    "        pass"
   ]
  },
  {
   "cell_type": "code",
   "execution_count": 612,
   "metadata": {},
   "outputs": [],
   "source": [
    "file_apps.close()"
   ]
  },
  {
   "cell_type": "code",
   "execution_count": 621,
   "metadata": {},
   "outputs": [],
   "source": [
    "file_user = open(\"Insert_User.txt\", \"a+\")\n",
    "for i in range(20000, 20001):  \n",
    "    try:\n",
    "        file_user.write('\\n'+ str(list(map(tuple, df_user_def.values))[i]))\n",
    "    except:\n",
    "        pass"
   ]
  },
  {
   "cell_type": "code",
   "execution_count": 622,
   "metadata": {},
   "outputs": [],
   "source": [
    "file_user.close()"
   ]
  },
  {
   "cell_type": "code",
   "execution_count": null,
   "metadata": {},
   "outputs": [],
   "source": []
  },
  {
   "cell_type": "code",
   "execution_count": null,
   "metadata": {},
   "outputs": [],
   "source": [
    "\"\"\"file_reviews = open(\"Insert_User.txt\", \"a+\")\n",
    "for i in range(20000, 20001):  \n",
    "    try:\n",
    "        file_user.write('\\n'+ str(list(map(tuple, df_user_def.values))[i]))\n",
    "    except:\n",
    "        pass\"\"\""
   ]
  },
  {
   "cell_type": "code",
   "execution_count": 624,
   "metadata": {},
   "outputs": [
    {
     "data": {
      "text/plain": [
       "64295"
      ]
     },
     "execution_count": 624,
     "metadata": {},
     "output_type": "execute_result"
    }
   ],
   "source": [
    "\"\"\"len(reviews_def)\"\"\""
   ]
  },
  {
   "cell_type": "code",
   "execution_count": 629,
   "metadata": {},
   "outputs": [
    {
     "data": {
      "text/plain": [
       "True"
      ]
     },
     "execution_count": 629,
     "metadata": {},
     "output_type": "execute_result"
    }
   ],
   "source": [
    "math.isnan(reviews.iloc[2]['Sentiment'])"
   ]
  },
  {
   "cell_type": "code",
   "execution_count": null,
   "metadata": {},
   "outputs": [],
   "source": []
  },
  {
   "cell_type": "markdown",
   "metadata": {},
   "source": [
    "### QUERIES SQL"
   ]
  },
  {
   "cell_type": "code",
   "execution_count": 7,
   "metadata": {},
   "outputs": [],
   "source": [
    "#connect to a database\n",
    "conn = sqlite3.connect(\"Database_Prova.db\") #if the db does not exist, this creates a Any_Database_Name.db file in the current directory\n",
    "\n",
    "#store your table in the database:\n",
    "apps_pandas.to_sql('SQL_APPS', conn)"
   ]
  },
  {
   "cell_type": "code",
   "execution_count": 8,
   "metadata": {},
   "outputs": [],
   "source": [
    "#read a SQL Query out of your database and into a pandas dataframe\n",
    "sql_string = 'SELECT * FROM SQL_APPS \\\n",
    "            WHERE rating=4.1  GROUP BY Category LIMIT 3'\n",
    "df_sql = pd.read_sql(sql_string, conn)"
   ]
  },
  {
   "cell_type": "code",
   "execution_count": 9,
   "metadata": {},
   "outputs": [
    {
     "data": {
      "text/html": [
       "<div>\n",
       "<style scoped>\n",
       "    .dataframe tbody tr th:only-of-type {\n",
       "        vertical-align: middle;\n",
       "    }\n",
       "\n",
       "    .dataframe tbody tr th {\n",
       "        vertical-align: top;\n",
       "    }\n",
       "\n",
       "    .dataframe thead th {\n",
       "        text-align: right;\n",
       "    }\n",
       "</style>\n",
       "<table border=\"1\" class=\"dataframe\">\n",
       "  <thead>\n",
       "    <tr style=\"text-align: right;\">\n",
       "      <th></th>\n",
       "      <th>index</th>\n",
       "      <th>App</th>\n",
       "      <th>Category</th>\n",
       "      <th>Rating</th>\n",
       "      <th>Reviews</th>\n",
       "      <th>Size</th>\n",
       "      <th>Installs</th>\n",
       "      <th>Type</th>\n",
       "      <th>Price</th>\n",
       "      <th>Content Rating</th>\n",
       "      <th>Genres</th>\n",
       "      <th>Last Updated</th>\n",
       "      <th>Current Ver</th>\n",
       "      <th>Android Ver</th>\n",
       "    </tr>\n",
       "  </thead>\n",
       "  <tbody>\n",
       "    <tr>\n",
       "      <th>0</th>\n",
       "      <td>37</td>\n",
       "      <td>Floor Plan Creator</td>\n",
       "      <td>ART_AND_DESIGN</td>\n",
       "      <td>4.1</td>\n",
       "      <td>36639</td>\n",
       "      <td>Varies with device</td>\n",
       "      <td>5,000,000+</td>\n",
       "      <td>Free</td>\n",
       "      <td>0</td>\n",
       "      <td>Everyone</td>\n",
       "      <td>Art &amp; Design</td>\n",
       "      <td>July 14, 2018</td>\n",
       "      <td>Varies with device</td>\n",
       "      <td>2.3.3 and up</td>\n",
       "    </tr>\n",
       "    <tr>\n",
       "      <th>1</th>\n",
       "      <td>135</td>\n",
       "      <td>Step By Step Hairstyles For Women</td>\n",
       "      <td>BEAUTY</td>\n",
       "      <td>4.1</td>\n",
       "      <td>66</td>\n",
       "      <td>2.9M</td>\n",
       "      <td>10,000+</td>\n",
       "      <td>Free</td>\n",
       "      <td>0</td>\n",
       "      <td>Everyone</td>\n",
       "      <td>Beauty</td>\n",
       "      <td>April 5, 2018</td>\n",
       "      <td>3.1.89</td>\n",
       "      <td>4.0.3 and up</td>\n",
       "    </tr>\n",
       "    <tr>\n",
       "      <th>2</th>\n",
       "      <td>9644</td>\n",
       "      <td>English to Hindi Dictionary</td>\n",
       "      <td>BOOKS_AND_REFERENCE</td>\n",
       "      <td>4.1</td>\n",
       "      <td>71328</td>\n",
       "      <td>11M</td>\n",
       "      <td>5,000,000+</td>\n",
       "      <td>Free</td>\n",
       "      <td>0</td>\n",
       "      <td>Everyone</td>\n",
       "      <td>Books &amp; Reference</td>\n",
       "      <td>June 11, 2017</td>\n",
       "      <td>BlueOrange</td>\n",
       "      <td>4.0.3 and up</td>\n",
       "    </tr>\n",
       "  </tbody>\n",
       "</table>\n",
       "</div>"
      ],
      "text/plain": [
       "   index                                App             Category  Rating  \\\n",
       "0     37                 Floor Plan Creator       ART_AND_DESIGN     4.1   \n",
       "1    135  Step By Step Hairstyles For Women               BEAUTY     4.1   \n",
       "2   9644        English to Hindi Dictionary  BOOKS_AND_REFERENCE     4.1   \n",
       "\n",
       "  Reviews                Size    Installs  Type Price Content Rating  \\\n",
       "0   36639  Varies with device  5,000,000+  Free     0       Everyone   \n",
       "1      66                2.9M     10,000+  Free     0       Everyone   \n",
       "2   71328                 11M  5,000,000+  Free     0       Everyone   \n",
       "\n",
       "              Genres   Last Updated         Current Ver   Android Ver  \n",
       "0       Art & Design  July 14, 2018  Varies with device  2.3.3 and up  \n",
       "1             Beauty  April 5, 2018              3.1.89  4.0.3 and up  \n",
       "2  Books & Reference  June 11, 2017          BlueOrange  4.0.3 and up  "
      ]
     },
     "execution_count": 9,
     "metadata": {},
     "output_type": "execute_result"
    }
   ],
   "source": [
    "df_sql"
   ]
  },
  {
   "cell_type": "code",
   "execution_count": 11,
   "metadata": {},
   "outputs": [
    {
     "name": "stdout",
     "output_type": "stream",
     "text": [
      "Done.\n",
      "1 rows affected.\n",
      "1 rows affected.\n"
     ]
    },
    {
     "data": {
      "text/plain": [
       "[]"
      ]
     },
     "execution_count": 11,
     "metadata": {},
     "output_type": "execute_result"
    }
   ],
   "source": [
    "%%sql sqlite://\n",
    "CREATE TABLE writer (first_name, last_name, year_of_death);\n",
    "INSERT INTO writer VALUES ('William', 'Shakespeare', 1616);\n",
    "INSERT INTO writer VALUES ('Bertold', 'Brecht', 1956)"
   ]
  },
  {
   "cell_type": "code",
   "execution_count": 12,
   "metadata": {},
   "outputs": [
    {
     "name": "stdout",
     "output_type": "stream",
     "text": [
      "Done.\n"
     ]
    },
    {
     "data": {
      "text/html": [
       "<table>\n",
       "    <tr>\n",
       "        <th>first_name</th>\n",
       "        <th>last_name</th>\n",
       "        <th>year_of_death</th>\n",
       "    </tr>\n",
       "    <tr>\n",
       "        <td>William</td>\n",
       "        <td>Shakespeare</td>\n",
       "        <td>1616</td>\n",
       "    </tr>\n",
       "    <tr>\n",
       "        <td>Bertold</td>\n",
       "        <td>Brecht</td>\n",
       "        <td>1956</td>\n",
       "    </tr>\n",
       "</table>"
      ],
      "text/plain": [
       "[('William', 'Shakespeare', 1616), ('Bertold', 'Brecht', 1956)]"
      ]
     },
     "execution_count": 12,
     "metadata": {},
     "output_type": "execute_result"
    }
   ],
   "source": [
    "%%sql sqlite://\n",
    "SELECT * \n",
    "FROM writer"
   ]
  },
  {
   "cell_type": "code",
   "execution_count": 13,
   "metadata": {},
   "outputs": [
    {
     "name": "stdout",
     "output_type": "stream",
     "text": [
      " * sqlite://\n",
      "Done.\n"
     ]
    },
    {
     "data": {
      "text/html": [
       "<table>\n",
       "    <tr>\n",
       "        <th>first_name</th>\n",
       "        <th>last_name</th>\n",
       "        <th>year_of_death</th>\n",
       "    </tr>\n",
       "    <tr>\n",
       "        <td>William</td>\n",
       "        <td>Shakespeare</td>\n",
       "        <td>1616</td>\n",
       "    </tr>\n",
       "</table>"
      ],
      "text/plain": [
       "[('William', 'Shakespeare', 1616)]"
      ]
     },
     "execution_count": 13,
     "metadata": {},
     "output_type": "execute_result"
    }
   ],
   "source": [
    "%%sql\n",
    "select * \n",
    "from writer \n",
    "where year_of_death= 1616"
   ]
  },
  {
   "cell_type": "code",
   "execution_count": null,
   "metadata": {},
   "outputs": [],
   "source": []
  }
 ],
 "metadata": {
  "kernelspec": {
   "display_name": "Python 3",
   "language": "python",
   "name": "python3"
  },
  "language_info": {
   "codemirror_mode": {
    "name": "ipython",
    "version": 3
   },
   "file_extension": ".py",
   "mimetype": "text/x-python",
   "name": "python",
   "nbconvert_exporter": "python",
   "pygments_lexer": "ipython3",
   "version": "3.6.5"
  }
 },
 "nbformat": 4,
 "nbformat_minor": 2
}
