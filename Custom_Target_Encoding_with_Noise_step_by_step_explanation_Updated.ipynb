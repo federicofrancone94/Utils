{
 "cells": [
  {
   "cell_type": "code",
   "execution_count": 1,
   "metadata": {
    "colab": {},
    "colab_type": "code",
    "id": "KrsEb_DR2NkD"
   },
   "outputs": [],
   "source": [
    "import pandas as pd\n",
    "import numpy as np\n",
    "\n",
    "from sklearn  import base\n",
    "from sklearn.model_selection import train_test_split, KFold\n",
    "\n",
    "from termcolor import colored"
   ]
  },
  {
   "cell_type": "code",
   "execution_count": 2,
   "metadata": {
    "colab": {
     "base_uri": "https://localhost:8080/",
     "height": 227
    },
    "colab_type": "code",
    "id": "lXdx4IL42NkH",
    "outputId": "772c5c76-7618-4ad1-b965-515f7394f504"
   },
   "outputs": [
    {
     "data": {
      "text/html": [
       "<div>\n",
       "<style scoped>\n",
       "    .dataframe tbody tr th:only-of-type {\n",
       "        vertical-align: middle;\n",
       "    }\n",
       "\n",
       "    .dataframe tbody tr th {\n",
       "        vertical-align: top;\n",
       "    }\n",
       "\n",
       "    .dataframe thead th {\n",
       "        text-align: right;\n",
       "    }\n",
       "</style>\n",
       "<table border=\"1\" class=\"dataframe\">\n",
       "  <thead>\n",
       "    <tr style=\"text-align: right;\">\n",
       "      <th></th>\n",
       "      <th>letter</th>\n",
       "      <th>label</th>\n",
       "    </tr>\n",
       "  </thead>\n",
       "  <tbody>\n",
       "    <tr>\n",
       "      <th>0</th>\n",
       "      <td>A</td>\n",
       "      <td>1</td>\n",
       "    </tr>\n",
       "    <tr>\n",
       "      <th>1</th>\n",
       "      <td>B</td>\n",
       "      <td>4</td>\n",
       "    </tr>\n",
       "    <tr>\n",
       "      <th>2</th>\n",
       "      <td>A</td>\n",
       "      <td>2</td>\n",
       "    </tr>\n",
       "    <tr>\n",
       "      <th>3</th>\n",
       "      <td>B</td>\n",
       "      <td>0</td>\n",
       "    </tr>\n",
       "    <tr>\n",
       "      <th>4</th>\n",
       "      <td>A</td>\n",
       "      <td>0</td>\n",
       "    </tr>\n",
       "    <tr>\n",
       "      <th>5</th>\n",
       "      <td>C</td>\n",
       "      <td>6</td>\n",
       "    </tr>\n",
       "  </tbody>\n",
       "</table>\n",
       "</div>"
      ],
      "text/plain": [
       "  letter  label\n",
       "0      A      1\n",
       "1      B      4\n",
       "2      A      2\n",
       "3      B      0\n",
       "4      A      0\n",
       "5      C      6"
      ]
     },
     "execution_count": 2,
     "metadata": {},
     "output_type": "execute_result"
    }
   ],
   "source": [
    "########################### Creating Toy Training Set ##############################\n",
    "train= pd.DataFrame()\n",
    "\n",
    "tr_letters= 'A B A B A C'.split()\n",
    "tr_labels= [1, 4, 2, 0, 0, 6]\n",
    "\n",
    "train['letter']= tr_letters\n",
    "train['label']= tr_labels\n",
    "\n",
    "#Mi creo una copia\n",
    "copy_train= train.copy()\n",
    "\n",
    "####### Creating Toy Test: I put on purpose one Category seen in the Train ('A'), the other ('D') unseen ########################\n",
    "test_letters= 'A D'.split()\n",
    "test_labels= [10, 8]\n",
    "\n",
    "test= pd.DataFrame()\n",
    "test['letter']= test_letters\n",
    "test['label']= test_labels\n",
    "\n",
    "#Mi creo una copia\n",
    "copy_test= test.copy()\n",
    "\n",
    "\n",
    "train"
   ]
  },
  {
   "cell_type": "code",
   "execution_count": 3,
   "metadata": {
    "colab": {
     "base_uri": "https://localhost:8080/",
     "height": 107
    },
    "colab_type": "code",
    "id": "ytu6eNmz2NkN",
    "outputId": "32f9c78c-dd85-486b-94f5-74b854af7e9f"
   },
   "outputs": [
    {
     "data": {
      "text/html": [
       "<div>\n",
       "<style scoped>\n",
       "    .dataframe tbody tr th:only-of-type {\n",
       "        vertical-align: middle;\n",
       "    }\n",
       "\n",
       "    .dataframe tbody tr th {\n",
       "        vertical-align: top;\n",
       "    }\n",
       "\n",
       "    .dataframe thead th {\n",
       "        text-align: right;\n",
       "    }\n",
       "</style>\n",
       "<table border=\"1\" class=\"dataframe\">\n",
       "  <thead>\n",
       "    <tr style=\"text-align: right;\">\n",
       "      <th></th>\n",
       "      <th>letter</th>\n",
       "      <th>label</th>\n",
       "    </tr>\n",
       "  </thead>\n",
       "  <tbody>\n",
       "    <tr>\n",
       "      <th>0</th>\n",
       "      <td>A</td>\n",
       "      <td>10</td>\n",
       "    </tr>\n",
       "    <tr>\n",
       "      <th>1</th>\n",
       "      <td>D</td>\n",
       "      <td>8</td>\n",
       "    </tr>\n",
       "  </tbody>\n",
       "</table>\n",
       "</div>"
      ],
      "text/plain": [
       "  letter  label\n",
       "0      A     10\n",
       "1      D      8"
      ]
     },
     "execution_count": 3,
     "metadata": {},
     "output_type": "execute_result"
    }
   ],
   "source": [
    "test"
   ]
  },
  {
   "cell_type": "markdown",
   "metadata": {
    "colab_type": "text",
    "id": "iYHU4JkZ2NkQ"
   },
   "source": [
    "## Step by step of basic KFold Target Encoding on Training set"
   ]
  },
  {
   "cell_type": "code",
   "execution_count": 4,
   "metadata": {
    "colab": {
     "base_uri": "https://localhost:8080/",
     "height": 1000
    },
    "colab_type": "code",
    "id": "Fh-PJSm82NkS",
    "outputId": "3339405c-98b1-4d70-9efa-b43e5ada34f2",
    "scrolled": true
   },
   "outputs": [
    {
     "name": "stderr",
     "output_type": "stream",
     "text": [
      "/Users/federicofrancone/Library/Python/3.7/lib/python/site-packages/sklearn/model_selection/_split.py:296: FutureWarning: Setting a random_state has no effect since shuffle is False. This will raise an error in 0.24. You should leave random_state to its default (None), or set shuffle=True.\n",
      "  FutureWarning\n"
     ]
    },
    {
     "name": "stdout",
     "output_type": "stream",
     "text": [
      "\u001b[1m\tINITIAL TRAIN \n",
      "   letter  label\n",
      "0      A      1\n",
      "1      B      4\n",
      "2      A      2\n",
      "3      B      0\n",
      "4      A      0\n",
      "5      C      6 \n",
      " \u001b[0m\n",
      "\u001b[31m\u001b[1m Threshold scelta: 0\u001b[0m\n",
      "Continue loop? y/n \n",
      "y\n",
      "\t\u001b[1mITERATION K-FOLD 1\u001b[0m \n",
      "Indexes of Train-Folds: [2 3 4 5], \u001b[1m Rows (Test Fold) to encode: \u001b[31m[0 1]\u001b[0m\u001b[0m \n",
      "\n",
      "Index(['A', 'B', 'C'], dtype='object', name='letter')\n",
      "\u001b[1m mean and std of Target on K-1 folds are 2.0 and 2.8284271247461903 \u001b[0m\n",
      "\u001b[1m \u001b[34m  letter  label  letter_encoded_mean  letter_encoded_std\n",
      "0      A      1                  1.0            1.414214\n",
      "1      B      4                  0.0                 NaN\n",
      "2      A      2                  NaN                 NaN\n",
      "3      B      0                  NaN                 NaN\n",
      "4      A      0                  NaN                 NaN\n",
      "5      C      6                  NaN                 NaN\u001b[0m\n",
      "Continue loop? y/n \n",
      "y\n",
      "\t\u001b[1mITERATION K-FOLD 2\u001b[0m \n",
      "Indexes of Train-Folds: [0 1 4 5], \u001b[1m Rows (Test Fold) to encode: \u001b[31m[2 3]\u001b[0m\u001b[0m \n",
      "\n",
      "Index(['A', 'B', 'C'], dtype='object', name='letter')\n",
      "\u001b[1m mean and std of Target on K-1 folds are 2.75 and 2.753785273643051 \u001b[0m\n",
      "\u001b[1m \u001b[34m  letter  label  letter_encoded_mean  letter_encoded_std\n",
      "0      A      1                  1.0            1.414214\n",
      "1      B      4                  0.0                 NaN\n",
      "2      A      2                  0.5            0.707107\n",
      "3      B      0                  4.0                 NaN\n",
      "4      A      0                  NaN                 NaN\n",
      "5      C      6                  NaN                 NaN\u001b[0m\n",
      "Continue loop? y/n \n",
      "y\n",
      "\t\u001b[1mITERATION K-FOLD 3\u001b[0m \n",
      "Indexes of Train-Folds: [0 1 2 3], \u001b[1m Rows (Test Fold) to encode: \u001b[31m[4 5]\u001b[0m\u001b[0m \n",
      "\n",
      "Index(['A', 'B'], dtype='object', name='letter')\n",
      "\u001b[1m mean and std of Target on K-1 folds are 1.75 and 1.707825127659933 \u001b[0m\n",
      "\u001b[1m \u001b[34m  letter  label  letter_encoded_mean  letter_encoded_std\n",
      "0      A      1                  1.0            1.414214\n",
      "1      B      4                  0.0                 NaN\n",
      "2      A      2                  0.5            0.707107\n",
      "3      B      0                  4.0                 NaN\n",
      "4      A      0                  1.5            0.707107\n",
      "5      C      6                  NaN                 NaN\u001b[0m\n"
     ]
    },
    {
     "data": {
      "text/html": [
       "<div>\n",
       "<style scoped>\n",
       "    .dataframe tbody tr th:only-of-type {\n",
       "        vertical-align: middle;\n",
       "    }\n",
       "\n",
       "    .dataframe tbody tr th {\n",
       "        vertical-align: top;\n",
       "    }\n",
       "\n",
       "    .dataframe thead th {\n",
       "        text-align: right;\n",
       "    }\n",
       "</style>\n",
       "<table border=\"1\" class=\"dataframe\">\n",
       "  <thead>\n",
       "    <tr style=\"text-align: right;\">\n",
       "      <th></th>\n",
       "      <th>letter</th>\n",
       "      <th>label</th>\n",
       "      <th>letter_encoded_mean</th>\n",
       "      <th>letter_encoded_std</th>\n",
       "    </tr>\n",
       "  </thead>\n",
       "  <tbody>\n",
       "    <tr>\n",
       "      <th>0</th>\n",
       "      <td>A</td>\n",
       "      <td>1</td>\n",
       "      <td>1.0</td>\n",
       "      <td>1.414214</td>\n",
       "    </tr>\n",
       "    <tr>\n",
       "      <th>1</th>\n",
       "      <td>B</td>\n",
       "      <td>4</td>\n",
       "      <td>0.0</td>\n",
       "      <td>NaN</td>\n",
       "    </tr>\n",
       "    <tr>\n",
       "      <th>2</th>\n",
       "      <td>A</td>\n",
       "      <td>2</td>\n",
       "      <td>0.5</td>\n",
       "      <td>0.707107</td>\n",
       "    </tr>\n",
       "    <tr>\n",
       "      <th>3</th>\n",
       "      <td>B</td>\n",
       "      <td>0</td>\n",
       "      <td>4.0</td>\n",
       "      <td>NaN</td>\n",
       "    </tr>\n",
       "    <tr>\n",
       "      <th>4</th>\n",
       "      <td>A</td>\n",
       "      <td>0</td>\n",
       "      <td>1.5</td>\n",
       "      <td>0.707107</td>\n",
       "    </tr>\n",
       "    <tr>\n",
       "      <th>5</th>\n",
       "      <td>C</td>\n",
       "      <td>6</td>\n",
       "      <td>NaN</td>\n",
       "      <td>NaN</td>\n",
       "    </tr>\n",
       "  </tbody>\n",
       "</table>\n",
       "</div>"
      ],
      "text/plain": [
       "  letter  label  letter_encoded_mean  letter_encoded_std\n",
       "0      A      1                  1.0            1.414214\n",
       "1      B      4                  0.0                 NaN\n",
       "2      A      2                  0.5            0.707107\n",
       "3      B      0                  4.0                 NaN\n",
       "4      A      0                  1.5            0.707107\n",
       "5      C      6                  NaN                 NaN"
      ]
     },
     "execution_count": 4,
     "metadata": {},
     "output_type": "execute_result"
    }
   ],
   "source": [
    "kf = KFold(n_splits = 3, shuffle = False, random_state= 0)\n",
    "\n",
    "name_encoded_mean= train.columns[0] + '_encoded_mean'\n",
    "name_encoded_std= train.columns[0] + '_encoded_std'\n",
    "\n",
    "column_to_encode= 'letter'\n",
    "target_column= 'label'\n",
    "\n",
    "################################### INIZIA CICLO ################################\n",
    "threshold= 0\n",
    "count= 1\n",
    "show_steps= True\n",
    "\n",
    "print('\\033[1m\\tINITIAL TRAIN \\n {} \\n \\033[0m'.format(train) )\n",
    "print(colored('\\033[1m Threshold scelta: {}'.format(threshold), 'red') )\n",
    "for tr_ind, val_ind in kf.split(train):\n",
    "    \n",
    "    if show_steps== True:\n",
    "        continua= str(input('Continue loop? y/n \\n'))\n",
    "        if continua.lower()[0]!= 'y':\n",
    "            print('Stoppo il ciclo')\n",
    "            break\n",
    "    \n",
    "    \n",
    "    \n",
    "    print('\\t\\033[1mITERATION K-FOLD {}\\033[0m \\nIndexes of Train-Folds: {}, \\033[1m Rows (Test Fold) to encode: {}\\033[0m \\n'.format(count, tr_ind, colored(val_ind, 'red')))  #sono gli indici delle folds\n",
    "    \n",
    "    X_tr, X_val = train.iloc[tr_ind], train.iloc[val_ind]\n",
    "    \n",
    "    diz_mean= X_tr.groupby(column_to_encode)[target_column].mean().to_dict()\n",
    "    diz_std= X_tr.groupby(column_to_encode)[target_column].std().to_dict()\n",
    "    \n",
    "    #### Tratto come Nan chi non supera la threshold, mentre per gli altri faccio Encoding classico\n",
    "    frequenze= X_tr.groupby('letter').size()\n",
    "    cat_oltre_threshold= frequenze[frequenze >= threshold].index\n",
    "    print(cat_oltre_threshold)\n",
    "    \n",
    "    train.loc[train.index[val_ind], name_encoded_mean] = X_val[column_to_encode].apply(lambda x: diz_mean[x] if x in cat_oltre_threshold else np.nan )\n",
    "    train.loc[train.index[val_ind], name_encoded_std] = X_val[column_to_encode].apply(lambda x: diz_std[x] if x in cat_oltre_threshold else np.nan)\n",
    "    \n",
    "    \n",
    "    mean_of_target = X_tr[target_column].mean()  #media di tutto il target sul KFold Train, not grouped\n",
    "    std_of_target= X_tr[target_column].std()    # # std di tutto il target sul KFold Train, not grouped\n",
    "    \n",
    "    if show_steps== True:\n",
    "        print(\"\\033[1m mean and std of Target on K-1 folds are {} and {} \\033[0m\".format(mean_of_target, std_of_target))\n",
    "        print('\\033[1m', colored(train, 'blue'))\n",
    "    \n",
    "    #train[name_encoded_mean].fillna(mean_of_target, inplace = True) #ai NaN metto la media del KFold Train Target\n",
    "    #train[name_encoded_std].fillna(std_of_target, inplace = True)   # ai NaN metto la std dev media del Kfold Train Target\n",
    "    \n",
    "    count+=1\n",
    "    \n",
    "train"
   ]
  },
  {
   "cell_type": "code",
   "execution_count": 6,
   "metadata": {
    "colab": {
     "base_uri": "https://localhost:8080/",
     "height": 107
    },
    "colab_type": "code",
    "id": "jPeKdQaF2NkV",
    "outputId": "fece5691-a018-49c0-b2ca-6acedafc1731"
   },
   "outputs": [
    {
     "data": {
      "text/html": [
       "<div>\n",
       "<style scoped>\n",
       "    .dataframe tbody tr th:only-of-type {\n",
       "        vertical-align: middle;\n",
       "    }\n",
       "\n",
       "    .dataframe tbody tr th {\n",
       "        vertical-align: top;\n",
       "    }\n",
       "\n",
       "    .dataframe thead th {\n",
       "        text-align: right;\n",
       "    }\n",
       "</style>\n",
       "<table border=\"1\" class=\"dataframe\">\n",
       "  <thead>\n",
       "    <tr style=\"text-align: right;\">\n",
       "      <th></th>\n",
       "      <th>letter</th>\n",
       "      <th>label</th>\n",
       "    </tr>\n",
       "  </thead>\n",
       "  <tbody>\n",
       "    <tr>\n",
       "      <th>0</th>\n",
       "      <td>A</td>\n",
       "      <td>10</td>\n",
       "    </tr>\n",
       "    <tr>\n",
       "      <th>1</th>\n",
       "      <td>D</td>\n",
       "      <td>8</td>\n",
       "    </tr>\n",
       "  </tbody>\n",
       "</table>\n",
       "</div>"
      ],
      "text/plain": [
       "  letter  label\n",
       "0      A     10\n",
       "1      D      8"
      ]
     },
     "execution_count": 6,
     "metadata": {
      "tags": []
     },
     "output_type": "execute_result"
    }
   ],
   "source": [
    "test"
   ]
  },
  {
   "cell_type": "markdown",
   "metadata": {
    "colab_type": "text",
    "id": "ZPLjc0zj2Nka"
   },
   "source": [
    "## Same as before, but adding the Imputation of Missing Values (not only NaNs, but also the very less frequent classes) respectively with mean and std of the Target for the whole population (the whole categorical column)"
   ]
  },
  {
   "cell_type": "code",
   "execution_count": 8,
   "metadata": {
    "colab": {
     "base_uri": "https://localhost:8080/",
     "height": 87
    },
    "colab_type": "code",
    "id": "iJ6VxrDQ2Nkb",
    "outputId": "aea2b0b6-551c-4329-9dd7-041d46d47fa0"
   },
   "outputs": [
    {
     "data": {
      "text/plain": [
       "letter\n",
       "A    3\n",
       "B    2\n",
       "dtype: int64"
      ]
     },
     "execution_count": 8,
     "metadata": {
      "tags": []
     },
     "output_type": "execute_result"
    }
   ],
   "source": [
    "f= train.groupby('letter').size() \n",
    "f[f> 1]"
   ]
  },
  {
   "cell_type": "code",
   "execution_count": 5,
   "metadata": {
    "colab": {
     "base_uri": "https://localhost:8080/",
     "height": 496
    },
    "colab_type": "code",
    "id": "5RtUtsgV2Nkd",
    "outputId": "5496f703-1888-494b-8536-1dfab0994be7",
    "scrolled": false
   },
   "outputs": [
    {
     "name": "stdout",
     "output_type": "stream",
     "text": [
      "\tITERATION K-FOLD 1 \n",
      "Indici delle Train-Folds: [2 3 4 5], \u001b[1mTest Fold da fillare: [0 1]\u001b[0m \n",
      "\n",
      "Index(['A', 'B', 'C'], dtype='object', name='letter')\n",
      "\tITERATION K-FOLD 2 \n",
      "Indici delle Train-Folds: [0 1 4 5], \u001b[1mTest Fold da fillare: [2 3]\u001b[0m \n",
      "\n",
      "Index(['A', 'B', 'C'], dtype='object', name='letter')\n",
      "\tITERATION K-FOLD 3 \n",
      "Indici delle Train-Folds: [0 1 2 3], \u001b[1mTest Fold da fillare: [4 5]\u001b[0m \n",
      "\n",
      "Index(['A', 'B'], dtype='object', name='letter')\n"
     ]
    },
    {
     "name": "stderr",
     "output_type": "stream",
     "text": [
      "/Users/federicofrancone/Library/Python/3.7/lib/python/site-packages/sklearn/model_selection/_split.py:296: FutureWarning: Setting a random_state has no effect since shuffle is False. This will raise an error in 0.24. You should leave random_state to its default (None), or set shuffle=True.\n",
      "  FutureWarning\n"
     ]
    },
    {
     "data": {
      "text/html": [
       "<div>\n",
       "<style scoped>\n",
       "    .dataframe tbody tr th:only-of-type {\n",
       "        vertical-align: middle;\n",
       "    }\n",
       "\n",
       "    .dataframe tbody tr th {\n",
       "        vertical-align: top;\n",
       "    }\n",
       "\n",
       "    .dataframe thead th {\n",
       "        text-align: right;\n",
       "    }\n",
       "</style>\n",
       "<table border=\"1\" class=\"dataframe\">\n",
       "  <thead>\n",
       "    <tr style=\"text-align: right;\">\n",
       "      <th></th>\n",
       "      <th>letter</th>\n",
       "      <th>label</th>\n",
       "      <th>letter_encoded_mean</th>\n",
       "      <th>letter_encoded_std</th>\n",
       "    </tr>\n",
       "  </thead>\n",
       "  <tbody>\n",
       "    <tr>\n",
       "      <th>0</th>\n",
       "      <td>A</td>\n",
       "      <td>1</td>\n",
       "      <td>1.00</td>\n",
       "      <td>1.414214</td>\n",
       "    </tr>\n",
       "    <tr>\n",
       "      <th>1</th>\n",
       "      <td>B</td>\n",
       "      <td>4</td>\n",
       "      <td>0.00</td>\n",
       "      <td>2.828427</td>\n",
       "    </tr>\n",
       "    <tr>\n",
       "      <th>2</th>\n",
       "      <td>A</td>\n",
       "      <td>2</td>\n",
       "      <td>0.50</td>\n",
       "      <td>0.707107</td>\n",
       "    </tr>\n",
       "    <tr>\n",
       "      <th>3</th>\n",
       "      <td>B</td>\n",
       "      <td>0</td>\n",
       "      <td>4.00</td>\n",
       "      <td>2.753785</td>\n",
       "    </tr>\n",
       "    <tr>\n",
       "      <th>4</th>\n",
       "      <td>A</td>\n",
       "      <td>0</td>\n",
       "      <td>1.50</td>\n",
       "      <td>0.707107</td>\n",
       "    </tr>\n",
       "    <tr>\n",
       "      <th>5</th>\n",
       "      <td>C</td>\n",
       "      <td>6</td>\n",
       "      <td>1.75</td>\n",
       "      <td>1.707825</td>\n",
       "    </tr>\n",
       "  </tbody>\n",
       "</table>\n",
       "</div>"
      ],
      "text/plain": [
       "  letter  label  letter_encoded_mean  letter_encoded_std\n",
       "0      A      1                 1.00            1.414214\n",
       "1      B      4                 0.00            2.828427\n",
       "2      A      2                 0.50            0.707107\n",
       "3      B      0                 4.00            2.753785\n",
       "4      A      0                 1.50            0.707107\n",
       "5      C      6                 1.75            1.707825"
      ]
     },
     "execution_count": 5,
     "metadata": {},
     "output_type": "execute_result"
    }
   ],
   "source": [
    "kf = KFold(n_splits = 3, shuffle = False, random_state= 0)\n",
    "\n",
    "name_encoded_mean= train.columns[0] + '_encoded_mean'\n",
    "name_encoded_std= train.columns[0] + '_encoded_std'\n",
    "\n",
    "column_to_encode= 'letter'\n",
    "target_column= 'label'\n",
    "\n",
    "threshold= 1\n",
    "count= 1\n",
    "\n",
    "\n",
    "for tr_ind, val_ind in kf.split(train):\n",
    "    print('\\tITERATION K-FOLD {} \\nIndici delle Train-Folds: {}, \\033[1mTest Fold da fillare: {}\\033[0m \\n'.format(count, tr_ind, val_ind))  #sono gli indici delle folds\n",
    "    \n",
    "    X_tr, X_val = train.iloc[tr_ind], train.iloc[val_ind]\n",
    "    \n",
    "    diz_mean= X_tr.groupby(column_to_encode)[target_column].mean().to_dict()\n",
    "    diz_std= X_tr.groupby(column_to_encode)[target_column].std().to_dict()\n",
    "    \n",
    "     #### I consider as NaN the classes having frequency lower than a thresholds\n",
    "    frequenze= X_tr.groupby('letter').size()\n",
    "    cat_oltre_threshold= frequenze[frequenze >= threshold].index\n",
    "    print(cat_oltre_threshold)\n",
    "    \n",
    "    train.loc[train.index[val_ind], name_encoded_mean] = X_val[column_to_encode].apply(lambda x: diz_mean[x] if x in cat_oltre_threshold else np.nan )\n",
    "    train.loc[train.index[val_ind], name_encoded_std] = X_val[column_to_encode].apply(lambda x: diz_std[x] if x in cat_oltre_threshold else np.nan)\n",
    "    \n",
    "    \n",
    "    mean_of_target = X_tr[target_column].mean()  #media di tutto il target sul KFold Train, not grouped\n",
    "    std_of_target= X_tr[target_column].std()    # # std di tutto il target sul KFold Train, not grouped\n",
    "    \n",
    "    \n",
    "    train[name_encoded_mean].fillna(mean_of_target, inplace = True) #ai NaN metto la media del KFold Train Target\n",
    "    train[name_encoded_std].fillna(std_of_target, inplace = True)   # ai NaN metto la std dev media del Kfold Train Target\n",
    "    \n",
    "    count+=1\n",
    "    \n",
    "train"
   ]
  },
  {
   "cell_type": "code",
   "execution_count": 6,
   "metadata": {
    "colab": {
     "base_uri": "https://localhost:8080/",
     "height": 87
    },
    "colab_type": "code",
    "id": "kgA0Tw792Nkg",
    "outputId": "f7748755-bc6f-49ac-ed21-cea31d5a366e"
   },
   "outputs": [
    {
     "data": {
      "text/plain": [
       "count    4.000000\n",
       "mean     1.750000\n",
       "std      1.707825\n",
       "Name: label, dtype: float64"
      ]
     },
     "execution_count": 6,
     "metadata": {},
     "output_type": "execute_result"
    }
   ],
   "source": [
    "train.iloc[:4]['label'].describe().head(3)"
   ]
  },
  {
   "cell_type": "markdown",
   "metadata": {
    "colab_type": "text",
    "id": "FzhxuN5b2Nki"
   },
   "source": [
    "## Encoding on Test Set, dealing with unseen categories"
   ]
  },
  {
   "cell_type": "code",
   "execution_count": 7,
   "metadata": {
    "colab": {
     "base_uri": "https://localhost:8080/",
     "height": 107
    },
    "colab_type": "code",
    "id": "xCm51wn72Nkj",
    "outputId": "9560fdfc-fd88-49ae-bc16-af0418e9517f"
   },
   "outputs": [
    {
     "data": {
      "text/html": [
       "<div>\n",
       "<style scoped>\n",
       "    .dataframe tbody tr th:only-of-type {\n",
       "        vertical-align: middle;\n",
       "    }\n",
       "\n",
       "    .dataframe tbody tr th {\n",
       "        vertical-align: top;\n",
       "    }\n",
       "\n",
       "    .dataframe thead th {\n",
       "        text-align: right;\n",
       "    }\n",
       "</style>\n",
       "<table border=\"1\" class=\"dataframe\">\n",
       "  <thead>\n",
       "    <tr style=\"text-align: right;\">\n",
       "      <th></th>\n",
       "      <th>letter</th>\n",
       "      <th>label</th>\n",
       "    </tr>\n",
       "  </thead>\n",
       "  <tbody>\n",
       "    <tr>\n",
       "      <th>0</th>\n",
       "      <td>A</td>\n",
       "      <td>10</td>\n",
       "    </tr>\n",
       "    <tr>\n",
       "      <th>1</th>\n",
       "      <td>D</td>\n",
       "      <td>8</td>\n",
       "    </tr>\n",
       "  </tbody>\n",
       "</table>\n",
       "</div>"
      ],
      "text/plain": [
       "  letter  label\n",
       "0      A     10\n",
       "1      D      8"
      ]
     },
     "execution_count": 7,
     "metadata": {},
     "output_type": "execute_result"
    }
   ],
   "source": [
    "test"
   ]
  },
  {
   "cell_type": "code",
   "execution_count": 8,
   "metadata": {
    "colab": {
     "base_uri": "https://localhost:8080/",
     "height": 167
    },
    "colab_type": "code",
    "id": "NrmWQWcq2Nkl",
    "outputId": "d91ec4f6-4357-4c4d-e741-89cf805fae10"
   },
   "outputs": [
    {
     "data": {
      "text/html": [
       "<div>\n",
       "<style scoped>\n",
       "    .dataframe tbody tr th:only-of-type {\n",
       "        vertical-align: middle;\n",
       "    }\n",
       "\n",
       "    .dataframe tbody tr th {\n",
       "        vertical-align: top;\n",
       "    }\n",
       "\n",
       "    .dataframe thead th {\n",
       "        text-align: right;\n",
       "    }\n",
       "</style>\n",
       "<table border=\"1\" class=\"dataframe\">\n",
       "  <thead>\n",
       "    <tr style=\"text-align: right;\">\n",
       "      <th></th>\n",
       "      <th>label</th>\n",
       "      <th>letter_encoded_mean</th>\n",
       "      <th>letter_encoded_std</th>\n",
       "    </tr>\n",
       "    <tr>\n",
       "      <th>letter</th>\n",
       "      <th></th>\n",
       "      <th></th>\n",
       "      <th></th>\n",
       "    </tr>\n",
       "  </thead>\n",
       "  <tbody>\n",
       "    <tr>\n",
       "      <th>A</th>\n",
       "      <td>1</td>\n",
       "      <td>1.00</td>\n",
       "      <td>0.942809</td>\n",
       "    </tr>\n",
       "    <tr>\n",
       "      <th>B</th>\n",
       "      <td>2</td>\n",
       "      <td>2.00</td>\n",
       "      <td>2.791106</td>\n",
       "    </tr>\n",
       "    <tr>\n",
       "      <th>C</th>\n",
       "      <td>6</td>\n",
       "      <td>1.75</td>\n",
       "      <td>1.707825</td>\n",
       "    </tr>\n",
       "  </tbody>\n",
       "</table>\n",
       "</div>"
      ],
      "text/plain": [
       "        label  letter_encoded_mean  letter_encoded_std\n",
       "letter                                                \n",
       "A           1                 1.00            0.942809\n",
       "B           2                 2.00            2.791106\n",
       "C           6                 1.75            1.707825"
      ]
     },
     "execution_count": 8,
     "metadata": {},
     "output_type": "execute_result"
    }
   ],
   "source": [
    "train.groupby('letter').mean()"
   ]
  },
  {
   "cell_type": "code",
   "execution_count": 10,
   "metadata": {
    "colab": {
     "base_uri": "https://localhost:8080/",
     "height": 107
    },
    "colab_type": "code",
    "id": "TohZDbP_2Nkp",
    "outputId": "6c0d3645-8dcc-4935-a7c3-4613a3b60fc6"
   },
   "outputs": [
    {
     "data": {
      "text/html": [
       "<div>\n",
       "<style scoped>\n",
       "    .dataframe tbody tr th:only-of-type {\n",
       "        vertical-align: middle;\n",
       "    }\n",
       "\n",
       "    .dataframe tbody tr th {\n",
       "        vertical-align: top;\n",
       "    }\n",
       "\n",
       "    .dataframe thead th {\n",
       "        text-align: right;\n",
       "    }\n",
       "</style>\n",
       "<table border=\"1\" class=\"dataframe\">\n",
       "  <thead>\n",
       "    <tr style=\"text-align: right;\">\n",
       "      <th></th>\n",
       "      <th>letter</th>\n",
       "      <th>label</th>\n",
       "      <th>letter_encoded_mean</th>\n",
       "      <th>letter_encoded_std</th>\n",
       "    </tr>\n",
       "  </thead>\n",
       "  <tbody>\n",
       "    <tr>\n",
       "      <th>0</th>\n",
       "      <td>A</td>\n",
       "      <td>10</td>\n",
       "      <td>1.0</td>\n",
       "      <td>0.942809</td>\n",
       "    </tr>\n",
       "    <tr>\n",
       "      <th>1</th>\n",
       "      <td>D</td>\n",
       "      <td>8</td>\n",
       "      <td>NaN</td>\n",
       "      <td>NaN</td>\n",
       "    </tr>\n",
       "  </tbody>\n",
       "</table>\n",
       "</div>"
      ],
      "text/plain": [
       "  letter  label  letter_encoded_mean  letter_encoded_std\n",
       "0      A     10                  1.0            0.942809\n",
       "1      D      8                  NaN                 NaN"
      ]
     },
     "execution_count": 10,
     "metadata": {},
     "output_type": "execute_result"
    }
   ],
   "source": [
    "test[name_encoded_mean]= test['letter'].map(train.groupby('letter').mean()['letter_encoded_mean']) #mapping categories with their mean on Train Set\n",
    "test[name_encoded_std]= test['letter'].map(train.groupby('letter').mean()['letter_encoded_std']) #mapping categories with their mean on Test\n",
    "test"
   ]
  },
  {
   "cell_type": "markdown",
   "metadata": {
    "colab_type": "text",
    "id": "c_UTnPmN2Nkr"
   },
   "source": [
    "## Filling mean e std dev of new categories in Test Set with the respective means of in the Train"
   ]
  },
  {
   "cell_type": "code",
   "execution_count": 11,
   "metadata": {
    "colab": {
     "base_uri": "https://localhost:8080/",
     "height": 227
    },
    "colab_type": "code",
    "id": "J9wPrrc22Nks",
    "outputId": "93808781-276d-47fd-a00e-90e642fac13a"
   },
   "outputs": [
    {
     "data": {
      "text/html": [
       "<div>\n",
       "<style scoped>\n",
       "    .dataframe tbody tr th:only-of-type {\n",
       "        vertical-align: middle;\n",
       "    }\n",
       "\n",
       "    .dataframe tbody tr th {\n",
       "        vertical-align: top;\n",
       "    }\n",
       "\n",
       "    .dataframe thead th {\n",
       "        text-align: right;\n",
       "    }\n",
       "</style>\n",
       "<table border=\"1\" class=\"dataframe\">\n",
       "  <thead>\n",
       "    <tr style=\"text-align: right;\">\n",
       "      <th></th>\n",
       "      <th>letter</th>\n",
       "      <th>label</th>\n",
       "      <th>letter_encoded_mean</th>\n",
       "      <th>letter_encoded_std</th>\n",
       "    </tr>\n",
       "  </thead>\n",
       "  <tbody>\n",
       "    <tr>\n",
       "      <th>0</th>\n",
       "      <td>A</td>\n",
       "      <td>1</td>\n",
       "      <td>1.00</td>\n",
       "      <td>1.414214</td>\n",
       "    </tr>\n",
       "    <tr>\n",
       "      <th>1</th>\n",
       "      <td>B</td>\n",
       "      <td>4</td>\n",
       "      <td>0.00</td>\n",
       "      <td>2.828427</td>\n",
       "    </tr>\n",
       "    <tr>\n",
       "      <th>2</th>\n",
       "      <td>A</td>\n",
       "      <td>2</td>\n",
       "      <td>0.50</td>\n",
       "      <td>0.707107</td>\n",
       "    </tr>\n",
       "    <tr>\n",
       "      <th>3</th>\n",
       "      <td>B</td>\n",
       "      <td>0</td>\n",
       "      <td>4.00</td>\n",
       "      <td>2.753785</td>\n",
       "    </tr>\n",
       "    <tr>\n",
       "      <th>4</th>\n",
       "      <td>A</td>\n",
       "      <td>0</td>\n",
       "      <td>1.50</td>\n",
       "      <td>0.707107</td>\n",
       "    </tr>\n",
       "    <tr>\n",
       "      <th>5</th>\n",
       "      <td>C</td>\n",
       "      <td>6</td>\n",
       "      <td>1.75</td>\n",
       "      <td>1.707825</td>\n",
       "    </tr>\n",
       "  </tbody>\n",
       "</table>\n",
       "</div>"
      ],
      "text/plain": [
       "  letter  label  letter_encoded_mean  letter_encoded_std\n",
       "0      A      1                 1.00            1.414214\n",
       "1      B      4                 0.00            2.828427\n",
       "2      A      2                 0.50            0.707107\n",
       "3      B      0                 4.00            2.753785\n",
       "4      A      0                 1.50            0.707107\n",
       "5      C      6                 1.75            1.707825"
      ]
     },
     "execution_count": 11,
     "metadata": {},
     "output_type": "execute_result"
    }
   ],
   "source": [
    "train"
   ]
  },
  {
   "cell_type": "code",
   "execution_count": 12,
   "metadata": {
    "colab": {
     "base_uri": "https://localhost:8080/",
     "height": 107
    },
    "colab_type": "code",
    "id": "lb45OVLC2Nku",
    "outputId": "eacd79e2-3a0a-4134-a862-8a1f42fb47ef"
   },
   "outputs": [
    {
     "data": {
      "text/html": [
       "<div>\n",
       "<style scoped>\n",
       "    .dataframe tbody tr th:only-of-type {\n",
       "        vertical-align: middle;\n",
       "    }\n",
       "\n",
       "    .dataframe tbody tr th {\n",
       "        vertical-align: top;\n",
       "    }\n",
       "\n",
       "    .dataframe thead th {\n",
       "        text-align: right;\n",
       "    }\n",
       "</style>\n",
       "<table border=\"1\" class=\"dataframe\">\n",
       "  <thead>\n",
       "    <tr style=\"text-align: right;\">\n",
       "      <th></th>\n",
       "      <th>letter</th>\n",
       "      <th>label</th>\n",
       "      <th>letter_encoded_mean</th>\n",
       "      <th>letter_encoded_std</th>\n",
       "    </tr>\n",
       "  </thead>\n",
       "  <tbody>\n",
       "    <tr>\n",
       "      <th>0</th>\n",
       "      <td>A</td>\n",
       "      <td>10</td>\n",
       "      <td>1.000000</td>\n",
       "      <td>0.942809</td>\n",
       "    </tr>\n",
       "    <tr>\n",
       "      <th>1</th>\n",
       "      <td>D</td>\n",
       "      <td>8</td>\n",
       "      <td>1.458333</td>\n",
       "      <td>1.686411</td>\n",
       "    </tr>\n",
       "  </tbody>\n",
       "</table>\n",
       "</div>"
      ],
      "text/plain": [
       "  letter  label  letter_encoded_mean  letter_encoded_std\n",
       "0      A     10             1.000000            0.942809\n",
       "1      D      8             1.458333            1.686411"
      ]
     },
     "execution_count": 12,
     "metadata": {},
     "output_type": "execute_result"
    }
   ],
   "source": [
    "mean_letter_encoded_tr= train['letter_encoded_mean'].mean()\n",
    "std_letter_encoded_tr= train['letter_encoded_std'].mean()\n",
    "\n",
    "test['letter_encoded_mean'].fillna(mean_letter_encoded_tr, inplace = True) #ai NaN metto la media di encoding_mean\n",
    "test['letter_encoded_std'].fillna(std_letter_encoded_tr, inplace = True)   #ai NaN metto la media di encoding_std\n",
    "\n",
    "test"
   ]
  },
  {
   "cell_type": "markdown",
   "metadata": {
    "colab_type": "text",
    "id": "I7GaSKaO2Nkw"
   },
   "source": [
    "# Final Step, adding to Train and Test some Noise, which is proportional for each category to its standard deviation on the target.\n",
    "<h4> The new variable will be a random drawing from a Gaussian centered into the Mean_encoding and with std dev equal to percentage_noise*Std_encdoing, where percentage_noise might be reasonable to be around 0.1 </h6>"
   ]
  },
  {
   "cell_type": "code",
   "execution_count": 14,
   "metadata": {
    "colab": {
     "base_uri": "https://localhost:8080/",
     "height": 34
    },
    "colab_type": "code",
    "id": "8yWVXkiR2Nkz",
    "outputId": "e1e1630e-870d-4981-e05f-91adcb5328a8"
   },
   "outputs": [
    {
     "data": {
      "text/plain": [
       "1.0702353812357883"
      ]
     },
     "execution_count": 14,
     "metadata": {},
     "output_type": "execute_result"
    }
   ],
   "source": [
    "np.random.seed(42)  #fisso un random seed\n",
    "np.random.normal(1, 0.1*1.414)"
   ]
  },
  {
   "cell_type": "code",
   "execution_count": 15,
   "metadata": {
    "colab": {
     "base_uri": "https://localhost:8080/",
     "height": 227
    },
    "colab_type": "code",
    "id": "yYraeF8m2Nkw",
    "outputId": "9ae569d5-6408-472f-d3d6-f2f8a2ef6041"
   },
   "outputs": [
    {
     "data": {
      "text/html": [
       "<div>\n",
       "<style scoped>\n",
       "    .dataframe tbody tr th:only-of-type {\n",
       "        vertical-align: middle;\n",
       "    }\n",
       "\n",
       "    .dataframe tbody tr th {\n",
       "        vertical-align: top;\n",
       "    }\n",
       "\n",
       "    .dataframe thead th {\n",
       "        text-align: right;\n",
       "    }\n",
       "</style>\n",
       "<table border=\"1\" class=\"dataframe\">\n",
       "  <thead>\n",
       "    <tr style=\"text-align: right;\">\n",
       "      <th></th>\n",
       "      <th>letter</th>\n",
       "      <th>label</th>\n",
       "      <th>letter_encoded_mean</th>\n",
       "      <th>letter_encoded_std</th>\n",
       "      <th>ENCODED WITH NOISE</th>\n",
       "    </tr>\n",
       "  </thead>\n",
       "  <tbody>\n",
       "    <tr>\n",
       "      <th>0</th>\n",
       "      <td>A</td>\n",
       "      <td>1</td>\n",
       "      <td>1.00</td>\n",
       "      <td>1.414214</td>\n",
       "      <td>1.007025</td>\n",
       "    </tr>\n",
       "    <tr>\n",
       "      <th>1</th>\n",
       "      <td>B</td>\n",
       "      <td>4</td>\n",
       "      <td>0.00</td>\n",
       "      <td>2.828427</td>\n",
       "      <td>-0.003911</td>\n",
       "    </tr>\n",
       "    <tr>\n",
       "      <th>2</th>\n",
       "      <td>A</td>\n",
       "      <td>2</td>\n",
       "      <td>0.50</td>\n",
       "      <td>0.707107</td>\n",
       "      <td>0.504580</td>\n",
       "    </tr>\n",
       "    <tr>\n",
       "      <th>3</th>\n",
       "      <td>B</td>\n",
       "      <td>0</td>\n",
       "      <td>4.00</td>\n",
       "      <td>2.753785</td>\n",
       "      <td>4.041941</td>\n",
       "    </tr>\n",
       "    <tr>\n",
       "      <th>4</th>\n",
       "      <td>A</td>\n",
       "      <td>0</td>\n",
       "      <td>1.50</td>\n",
       "      <td>0.707107</td>\n",
       "      <td>1.498344</td>\n",
       "    </tr>\n",
       "    <tr>\n",
       "      <th>5</th>\n",
       "      <td>C</td>\n",
       "      <td>6</td>\n",
       "      <td>1.75</td>\n",
       "      <td>1.707825</td>\n",
       "      <td>1.746001</td>\n",
       "    </tr>\n",
       "  </tbody>\n",
       "</table>\n",
       "</div>"
      ],
      "text/plain": [
       "  letter  label  letter_encoded_mean  letter_encoded_std  ENCODED WITH NOISE\n",
       "0      A      1                 1.00            1.414214            1.007025\n",
       "1      B      4                 0.00            2.828427           -0.003911\n",
       "2      A      2                 0.50            0.707107            0.504580\n",
       "3      B      0                 4.00            2.753785            4.041941\n",
       "4      A      0                 1.50            0.707107            1.498344\n",
       "5      C      6                 1.75            1.707825            1.746001"
      ]
     },
     "execution_count": 15,
     "metadata": {},
     "output_type": "execute_result"
    }
   ],
   "source": [
    "np.random.seed(42)  #fisso un random seed\n",
    "\n",
    "percentage_noise= 0.01\n",
    "\n",
    "train['ENCODED WITH NOISE']= np.random.normal(train['letter_encoded_mean'], percentage_noise*train['letter_encoded_std'],\n",
    "                                              size= len(train))\n",
    "\n",
    "train"
   ]
  },
  {
   "cell_type": "code",
   "execution_count": 18,
   "metadata": {
    "colab": {
     "base_uri": "https://localhost:8080/",
     "height": 107
    },
    "colab_type": "code",
    "id": "qdE2tXN12Nk2",
    "outputId": "17d2feae-584b-4dbe-9c1b-8c5dc234ff32"
   },
   "outputs": [
    {
     "data": {
      "text/html": [
       "<div>\n",
       "<style scoped>\n",
       "    .dataframe tbody tr th:only-of-type {\n",
       "        vertical-align: middle;\n",
       "    }\n",
       "\n",
       "    .dataframe tbody tr th {\n",
       "        vertical-align: top;\n",
       "    }\n",
       "\n",
       "    .dataframe thead th {\n",
       "        text-align: right;\n",
       "    }\n",
       "</style>\n",
       "<table border=\"1\" class=\"dataframe\">\n",
       "  <thead>\n",
       "    <tr style=\"text-align: right;\">\n",
       "      <th></th>\n",
       "      <th>letter</th>\n",
       "      <th>label</th>\n",
       "      <th>letter_encoded_mean</th>\n",
       "      <th>letter_encoded_std</th>\n",
       "      <th>ENCODED WITH NOISE</th>\n",
       "    </tr>\n",
       "  </thead>\n",
       "  <tbody>\n",
       "    <tr>\n",
       "      <th>0</th>\n",
       "      <td>A</td>\n",
       "      <td>10</td>\n",
       "      <td>1.000000</td>\n",
       "      <td>0.942809</td>\n",
       "      <td>0.995631</td>\n",
       "    </tr>\n",
       "    <tr>\n",
       "      <th>1</th>\n",
       "      <td>D</td>\n",
       "      <td>8</td>\n",
       "      <td>1.458333</td>\n",
       "      <td>1.686411</td>\n",
       "      <td>1.450479</td>\n",
       "    </tr>\n",
       "  </tbody>\n",
       "</table>\n",
       "</div>"
      ],
      "text/plain": [
       "  letter  label  letter_encoded_mean  letter_encoded_std  ENCODED WITH NOISE\n",
       "0      A     10             1.000000            0.942809            0.995631\n",
       "1      D      8             1.458333            1.686411            1.450479"
      ]
     },
     "execution_count": 18,
     "metadata": {},
     "output_type": "execute_result"
    }
   ],
   "source": [
    "### On Test Set\n",
    "\n",
    "test['ENCODED WITH NOISE']= np.random.normal(test['letter_encoded_mean'], percentage_noise*test['letter_encoded_std'], size= len(test))\n",
    "\n",
    "test"
   ]
  },
  {
   "cell_type": "markdown",
   "metadata": {
    "colab_type": "text",
    "id": "mRuRySrF2Nk6"
   },
   "source": [
    "# Generalizing and automating putting everything into a single class"
   ]
  },
  {
   "cell_type": "markdown",
   "metadata": {},
   "source": [
    "### <font color= 'green'> <center> K-Fold Target Encoding with Noise"
   ]
  },
  {
   "cell_type": "markdown",
   "metadata": {},
   "source": [
    "### Macro Explanation  <a id='kfold_targ_enc'> <br>\n",
    "1. First, read this article to understand why and how a K-Fold approach is preferred to a basic target encoding (where each category is replaced with the related target mean of the training set) https://medium.com/@pouryaayria/k-fold-target-encoding-dfe9a594874b . It must be clear that this way overfitting is strongly reduced, since the same category will not be converted always with the same value, but a different one for each fold.\n",
    "2. In past projects, I improved this approach, basically by adding:\n",
    "    1. **Noise** to each value, which is proportional to the std deviation of the target of a given category     (considered in the K-1 folds..). Reason: suppose that category A has got values 0.3, 0.6 and 0.9, with mean= 0.6. Category B has 0.55, 0.60 and 0.65, with mean 0.6 again. It is obvious that the second one has got a much stronger dependency with the target, in respect to the first. This information is captured by the std dev: category A will be replaced in each row with 0.6 plus a noise which will be proportional to the standard deviation (my default multiplying factor is 0.1* std deviation). \n",
    "The conclusion is that the same category will have different values in each row, rather than in each fold: that's great to avoid overfitting!\n",
    "    2. **Threshold**: suppose that in the training data you have 1000 observations of category A and only 5 observations having category B. Clearly, the target related to the latter is much more uncertain: actually we don't want any model to learn the relationship between category B and the target: if it does, it would be likely to overfit. Thus, the K-Fold targ. encoding approach is applied only for those categories having a number of samples (in the K-1 folds) higher than a chosen threshold. If this condition is not satisfied, they are replaced with the mean/median of the whole feature in the training data (similar to a binning approach: by filling all the low frequency category with the mean, you are actually grouping them into a common cluster..) <br>    \n",
    "3. In the test set, each category is replaced with its corresponding mean in the train. There is no need to add noise here, since it has already been added in the train. If there is a new category - unseen in the train data - it is filled with the training mean of the whole feature (similar to a missing values imputation..)\n",
    "    \n",
    "4. <font color ='green'> I will provide a jupyter notebook (I have to clean the current one I have) with a step by step grapchical explanation of the whole process. I also have to clean the function and comments, translating to english italian comments"
   ]
  },
  {
   "cell_type": "markdown",
   "metadata": {},
   "source": [
    "<b> Referring to the previous description, the main parameters of the function belowe are: </b>\n",
    "1. **n_folds**: is the number of Folds it is wanted to use. Very simply, a higher number prevents even more overfitting, but it is computationally more expensive. I usually use 100 folds, but I don't advice to consider this as an hyperparameter of the model.\n",
    "2. **prop_std_per_noise**: it is the mupltiplying factor of the std deviation, it has to be a low number, otherwise you are adding to much noise to the data and you lose too much information. Typically, I choose values lower than 0.1. Play with the parameter in the cell below to have an idea of the impact this multiplying factor has.\n",
    "3. **threshold**: see cell above.\n",
    "4. **cols_to_encode**: by default the function performs this encoding for all the categorical features (that is, being 'object' type). But if you want to apply only for some specific columns, you can pass them as a list. <br>\n",
    "Less Relevant:\n",
    "5. *target*: is simply the target name\n",
    "6. *minimum_std*: for some categories it can happen that the std deviation is 0. To reduce the power of this (and overfitting..), we set a minimum amount of std dev, without which there would not be any noise added. Thus, set this value low, I usually use smth like 0.05"
   ]
  },
  {
   "cell_type": "code",
   "execution_count": 19,
   "metadata": {
    "colab": {},
    "colab_type": "code",
    "id": "qBSjra3L220s"
   },
   "outputs": [],
   "source": [
    "class KFoldTargetEncoderTrain_std(base.BaseEstimator, base.TransformerMixin):\n",
    "    def __init__(self, colnames,targetName, n_fold=10, verbosity=True, \n",
    "                 discardOriginal_col=False, threshold= 1, showPrint= False):\n",
    "\n",
    "        self.colnames = colnames\n",
    "        self.targetName = targetName\n",
    "        self.n_fold = n_fold\n",
    "        self.verbosity = verbosity\n",
    "        self.discardOriginal_col = discardOriginal_col\n",
    "        self.threshold= threshold\n",
    "        self.showPrint= showPrint\n",
    "\n",
    "    def fit(self, X, y=None):\n",
    "        return self\n",
    "\n",
    "    def transform(self,X):\n",
    "\n",
    "        assert(type(self.targetName) == str)\n",
    "        assert(type(self.colnames) == str)\n",
    "        assert(self.colnames in X.columns)\n",
    "        assert(self.targetName in X.columns)\n",
    "        assert(type(self.threshold) == int)\n",
    "       \n",
    "        kf = KFold(n_splits = self.n_fold, shuffle = False, random_state=2019)\n",
    "        #kf = StratifiedKFold(n_splits = self.n_fold, shuffle = False, random_state=2019)\n",
    "\n",
    "        col_mean_name = self.colnames + '_' + 'enc_mean'\n",
    "        col_std_name= self.colnames + '_' + 'enc_std'\n",
    "        \n",
    "        #Le inizializzo con tutti NaN\n",
    "        X[col_mean_name] = np.nan\n",
    "        X[col_std_name] = np.nan\n",
    "        \n",
    "        #A ogni giro (per ogni K-Fold) fillo valori della Test Fold con la media delle Train Fold.\n",
    "        for tr_ind, val_ind in kf.split(X):\n",
    "            if self.showPrint is True:\n",
    "                print('Indici delle Train-Folds: {},\\033[1mTest Fold da fillare: {}\\033[0m \\n'.format(tr_ind, val_ind))  #sono gli indici delle folds\n",
    "\n",
    "            X_tr, X_val = X.iloc[tr_ind], X.iloc[val_ind]\n",
    "\n",
    "            diz_mean= X_tr.groupby(self.colnames)[self.targetName].mean().to_dict()\n",
    "            diz_std= X_tr.groupby(self.colnames)[self.targetName].std().to_dict()\n",
    "\n",
    "            #### Tratto come Nan chi non supera la threshold, agli altri assegno media e std sulle altre folds\n",
    "            frequenze= X_tr.groupby(self.colnames).size()\n",
    "            cat_oltre_threshold= frequenze[frequenze >= self.threshold].index\n",
    "            \n",
    "            if self.showPrint == True:\n",
    "                print('cat_oltre_threshold', cat_oltre_threshold)\n",
    "\n",
    "            X.loc[X.index[val_ind], col_mean_name] = X_val[self.colnames].apply(lambda x: diz_mean[x] if x in cat_oltre_threshold else np.nan )\n",
    "            X.loc[X.index[val_ind], col_std_name] = X_val[self.colnames].apply(lambda x: diz_std[x] if x in cat_oltre_threshold else np.nan)\n",
    "\n",
    "            mean_of_target = X_tr[self.targetName].mean()  #media di tutto il target sul KFold Train, not grouped\n",
    "            std_of_target= X_tr[self.targetName].std()    # # std di tutto il target sul KFold Train, not grouped\n",
    "\n",
    "            X[col_mean_name].fillna(mean_of_target, inplace = True) #ai NaN metto la media del KFold Train Target\n",
    "            X[col_std_name].fillna(std_of_target, inplace = True)   # ai NaN metto la std dev media del Kfold Train Target\n",
    "\n",
    "        if self.verbosity:\n",
    "\n",
    "            encoded_feature = X[col_mean_name].values\n",
    "            print('Correlation between the new feature, {} and, {} is {}.'.format(col_mean_name,\n",
    "                                    self.targetName,np.corrcoef(X[self.targetName].values, encoded_feature)[0][1]))\n",
    "            \n",
    "        if self.discardOriginal_col:\n",
    "            if self.showPrint == True:\n",
    "                print('columns: ', X.columns)\n",
    "            X = X.drop(self.colnames, axis=1)\n",
    "        return X\n",
    "    \n",
    "    \n",
    "class KFoldTargetEncoderTest_std(base.BaseEstimator, base.TransformerMixin):\n",
    "    \n",
    "    def __init__(self,train,colNames,Train_encoded_mean, Train_encoded_std, showPrint= False):\n",
    "        \n",
    "        self.train = train\n",
    "        self.colNames = colNames\n",
    "        self.Train_encoded_mean = Train_encoded_mean\n",
    "        self.Train_encoded_std = Train_encoded_std\n",
    "        self.showPrint= showPrint\n",
    "        \n",
    "    def fit(self, X, y=None):\n",
    "        return self\n",
    "\n",
    "    def transform(self,X):\n",
    "\n",
    "        ### Media e std del Target grouped per categoria su tutto il Train\n",
    "        category_mean_tr = self.train[[self.colNames,self.Train_encoded_mean]].groupby(self.colNames).mean() #.reset_index() \n",
    "        category_std_tr= self.train[[self.colNames,self.Train_encoded_std]].groupby(self.colNames).mean() #.reset_index() \n",
    "        \n",
    "        ### Media dell'Encoding basato su mean e std sul Train (non grouped per categoria)\n",
    "        population_mean_tr= self.train[self.Train_encoded_mean].mean()\n",
    "        population_std_tr= self.train[self.Train_encoded_std].mean()\n",
    "        \n",
    "        ### Metto nel Test i valori medi della mean e std del Train per quella categoria\n",
    "        X[self.Train_encoded_mean]= X[self.colNames].map(category_mean_tr.squeeze().to_dict())\n",
    "        X[self.Train_encoded_std]= X[self.colNames].map(category_std_tr.squeeze().to_dict())\n",
    "        \n",
    "        ### Fillo i Missing Values (Categorie Nuove) con i valori medi di mean e std (encodate) di tutte la variabile nel Train\n",
    "        if self.showPrint== True:\n",
    "            print('Filled {} Missing Values with Average mean and std equals to {}, {}'.format(\n",
    "                                                        np.sum(np.sum(X.isna())), population_mean_tr , population_std_tr))\n",
    "        \n",
    "        X[self.Train_encoded_mean].fillna(population_mean_tr, inplace = True) #fillo con media di enc_mean sul Train\n",
    "        X[self.Train_encoded_std].fillna(population_std_tr, inplace = True)   #fillo con media di enc_std sul Train\n",
    "        \n",
    "        return X"
   ]
  },
  {
   "cell_type": "markdown",
   "metadata": {
    "colab_type": "text",
    "id": "Y_Jtmg092Nk8"
   },
   "source": [
    "### Let's verify that using the class I obtain the same results of the experimental procedure above"
   ]
  },
  {
   "cell_type": "code",
   "execution_count": 20,
   "metadata": {
    "colab": {
     "base_uri": "https://localhost:8080/",
     "height": 227
    },
    "colab_type": "code",
    "id": "-bKNJ7gk2Nk9",
    "outputId": "28c7380c-10db-492f-b239-a0e24d44fbf2"
   },
   "outputs": [
    {
     "data": {
      "text/html": [
       "<div>\n",
       "<style scoped>\n",
       "    .dataframe tbody tr th:only-of-type {\n",
       "        vertical-align: middle;\n",
       "    }\n",
       "\n",
       "    .dataframe tbody tr th {\n",
       "        vertical-align: top;\n",
       "    }\n",
       "\n",
       "    .dataframe thead th {\n",
       "        text-align: right;\n",
       "    }\n",
       "</style>\n",
       "<table border=\"1\" class=\"dataframe\">\n",
       "  <thead>\n",
       "    <tr style=\"text-align: right;\">\n",
       "      <th></th>\n",
       "      <th>letter</th>\n",
       "      <th>label</th>\n",
       "    </tr>\n",
       "  </thead>\n",
       "  <tbody>\n",
       "    <tr>\n",
       "      <th>0</th>\n",
       "      <td>A</td>\n",
       "      <td>1</td>\n",
       "    </tr>\n",
       "    <tr>\n",
       "      <th>1</th>\n",
       "      <td>B</td>\n",
       "      <td>4</td>\n",
       "    </tr>\n",
       "    <tr>\n",
       "      <th>2</th>\n",
       "      <td>A</td>\n",
       "      <td>2</td>\n",
       "    </tr>\n",
       "    <tr>\n",
       "      <th>3</th>\n",
       "      <td>B</td>\n",
       "      <td>0</td>\n",
       "    </tr>\n",
       "    <tr>\n",
       "      <th>4</th>\n",
       "      <td>A</td>\n",
       "      <td>0</td>\n",
       "    </tr>\n",
       "    <tr>\n",
       "      <th>5</th>\n",
       "      <td>C</td>\n",
       "      <td>6</td>\n",
       "    </tr>\n",
       "  </tbody>\n",
       "</table>\n",
       "</div>"
      ],
      "text/plain": [
       "  letter  label\n",
       "0      A      1\n",
       "1      B      4\n",
       "2      A      2\n",
       "3      B      0\n",
       "4      A      0\n",
       "5      C      6"
      ]
     },
     "execution_count": 20,
     "metadata": {},
     "output_type": "execute_result"
    }
   ],
   "source": [
    "########################### Creo Training Set ##############################\n",
    "copy_train= pd.DataFrame()\n",
    "\n",
    "tr_letters= 'A B A B A C'.split()\n",
    "tr_labels= [1, 4, 2, 0, 0, 6]\n",
    "\n",
    "copy_train['letter']= tr_letters\n",
    "copy_train['label']= tr_labels\n",
    "\n",
    "\n",
    "################ Creo Test: ci metto una categoria nota, A, e un'altra non vista nel Train, D ########################\n",
    "test_letters= 'A D'.split()\n",
    "test_labels= [10, 8]\n",
    "\n",
    "copy_test= pd.DataFrame()\n",
    "copy_test['letter']= test_letters\n",
    "copy_test['label']= test_labels\n",
    "\n",
    "copy_train"
   ]
  },
  {
   "cell_type": "code",
   "execution_count": 22,
   "metadata": {
    "colab": {
     "base_uri": "https://localhost:8080/",
     "height": 301
    },
    "colab_type": "code",
    "id": "NHtGrJhF2NlB",
    "outputId": "3d9b966e-4399-4a56-abea-e302d3c53a68"
   },
   "outputs": [
    {
     "name": "stdout",
     "output_type": "stream",
     "text": [
      "Correlation between the new feature, letter_enc_mean and, label is -0.3841614968388928.\n"
     ]
    },
    {
     "name": "stderr",
     "output_type": "stream",
     "text": [
      "/Users/federicofrancone/Library/Python/3.7/lib/python/site-packages/sklearn/model_selection/_split.py:296: FutureWarning: Setting a random_state has no effect since shuffle is False. This will raise an error in 0.24. You should leave random_state to its default (None), or set shuffle=True.\n",
      "  FutureWarning\n"
     ]
    },
    {
     "data": {
      "text/html": [
       "<div>\n",
       "<style scoped>\n",
       "    .dataframe tbody tr th:only-of-type {\n",
       "        vertical-align: middle;\n",
       "    }\n",
       "\n",
       "    .dataframe tbody tr th {\n",
       "        vertical-align: top;\n",
       "    }\n",
       "\n",
       "    .dataframe thead th {\n",
       "        text-align: right;\n",
       "    }\n",
       "</style>\n",
       "<table border=\"1\" class=\"dataframe\">\n",
       "  <thead>\n",
       "    <tr style=\"text-align: right;\">\n",
       "      <th></th>\n",
       "      <th>letter</th>\n",
       "      <th>label</th>\n",
       "      <th>letter_enc_mean</th>\n",
       "      <th>letter_enc_std</th>\n",
       "    </tr>\n",
       "  </thead>\n",
       "  <tbody>\n",
       "    <tr>\n",
       "      <th>0</th>\n",
       "      <td>A</td>\n",
       "      <td>1</td>\n",
       "      <td>1.00</td>\n",
       "      <td>1.414214</td>\n",
       "    </tr>\n",
       "    <tr>\n",
       "      <th>1</th>\n",
       "      <td>B</td>\n",
       "      <td>4</td>\n",
       "      <td>0.00</td>\n",
       "      <td>2.828427</td>\n",
       "    </tr>\n",
       "    <tr>\n",
       "      <th>2</th>\n",
       "      <td>A</td>\n",
       "      <td>2</td>\n",
       "      <td>0.50</td>\n",
       "      <td>0.707107</td>\n",
       "    </tr>\n",
       "    <tr>\n",
       "      <th>3</th>\n",
       "      <td>B</td>\n",
       "      <td>0</td>\n",
       "      <td>4.00</td>\n",
       "      <td>2.753785</td>\n",
       "    </tr>\n",
       "    <tr>\n",
       "      <th>4</th>\n",
       "      <td>A</td>\n",
       "      <td>0</td>\n",
       "      <td>1.50</td>\n",
       "      <td>0.707107</td>\n",
       "    </tr>\n",
       "    <tr>\n",
       "      <th>5</th>\n",
       "      <td>C</td>\n",
       "      <td>6</td>\n",
       "      <td>1.75</td>\n",
       "      <td>1.707825</td>\n",
       "    </tr>\n",
       "  </tbody>\n",
       "</table>\n",
       "</div>"
      ],
      "text/plain": [
       "  letter  label  letter_enc_mean  letter_enc_std\n",
       "0      A      1             1.00        1.414214\n",
       "1      B      4             0.00        2.828427\n",
       "2      A      2             0.50        0.707107\n",
       "3      B      0             4.00        2.753785\n",
       "4      A      0             1.50        0.707107\n",
       "5      C      6             1.75        1.707825"
      ]
     },
     "execution_count": 22,
     "metadata": {},
     "output_type": "execute_result"
    }
   ],
   "source": [
    "targetc = KFoldTargetEncoderTrain_std('letter', 'label' , n_fold= 3)\n",
    "copy_train_enc = targetc.fit_transform(copy_train)\n",
    "copy_train_enc"
   ]
  },
  {
   "cell_type": "code",
   "execution_count": 24,
   "metadata": {
    "colab": {
     "base_uri": "https://localhost:8080/",
     "height": 227
    },
    "colab_type": "code",
    "id": "3cD13sEI2NlF",
    "outputId": "9c01a12f-3d35-4c4c-cc39-8d33b575a066"
   },
   "outputs": [
    {
     "data": {
      "text/html": [
       "<div>\n",
       "<style scoped>\n",
       "    .dataframe tbody tr th:only-of-type {\n",
       "        vertical-align: middle;\n",
       "    }\n",
       "\n",
       "    .dataframe tbody tr th {\n",
       "        vertical-align: top;\n",
       "    }\n",
       "\n",
       "    .dataframe thead th {\n",
       "        text-align: right;\n",
       "    }\n",
       "</style>\n",
       "<table border=\"1\" class=\"dataframe\">\n",
       "  <thead>\n",
       "    <tr style=\"text-align: right;\">\n",
       "      <th></th>\n",
       "      <th>letter</th>\n",
       "      <th>label</th>\n",
       "      <th>letter_encoded_mean</th>\n",
       "      <th>letter_encoded_std</th>\n",
       "      <th>ENCODED WITH NOISE</th>\n",
       "    </tr>\n",
       "  </thead>\n",
       "  <tbody>\n",
       "    <tr>\n",
       "      <th>0</th>\n",
       "      <td>A</td>\n",
       "      <td>1</td>\n",
       "      <td>1.00</td>\n",
       "      <td>1.414214</td>\n",
       "      <td>1.007025</td>\n",
       "    </tr>\n",
       "    <tr>\n",
       "      <th>1</th>\n",
       "      <td>B</td>\n",
       "      <td>4</td>\n",
       "      <td>0.00</td>\n",
       "      <td>2.828427</td>\n",
       "      <td>-0.003911</td>\n",
       "    </tr>\n",
       "    <tr>\n",
       "      <th>2</th>\n",
       "      <td>A</td>\n",
       "      <td>2</td>\n",
       "      <td>0.50</td>\n",
       "      <td>0.707107</td>\n",
       "      <td>0.504580</td>\n",
       "    </tr>\n",
       "    <tr>\n",
       "      <th>3</th>\n",
       "      <td>B</td>\n",
       "      <td>0</td>\n",
       "      <td>4.00</td>\n",
       "      <td>2.753785</td>\n",
       "      <td>4.041941</td>\n",
       "    </tr>\n",
       "    <tr>\n",
       "      <th>4</th>\n",
       "      <td>A</td>\n",
       "      <td>0</td>\n",
       "      <td>1.50</td>\n",
       "      <td>0.707107</td>\n",
       "      <td>1.498344</td>\n",
       "    </tr>\n",
       "    <tr>\n",
       "      <th>5</th>\n",
       "      <td>C</td>\n",
       "      <td>6</td>\n",
       "      <td>1.75</td>\n",
       "      <td>1.707825</td>\n",
       "      <td>1.746001</td>\n",
       "    </tr>\n",
       "  </tbody>\n",
       "</table>\n",
       "</div>"
      ],
      "text/plain": [
       "  letter  label  letter_encoded_mean  letter_encoded_std  ENCODED WITH NOISE\n",
       "0      A      1                 1.00            1.414214            1.007025\n",
       "1      B      4                 0.00            2.828427           -0.003911\n",
       "2      A      2                 0.50            0.707107            0.504580\n",
       "3      B      0                 4.00            2.753785            4.041941\n",
       "4      A      0                 1.50            0.707107            1.498344\n",
       "5      C      6                 1.75            1.707825            1.746001"
      ]
     },
     "execution_count": 24,
     "metadata": {},
     "output_type": "execute_result"
    }
   ],
   "source": [
    "### Old train which I obtained without using the class\n",
    "train"
   ]
  },
  {
   "cell_type": "markdown",
   "metadata": {
    "colab_type": "text",
    "id": "tm-SQi952NlI"
   },
   "source": [
    "### Correct; I obtained the same I had before. Now let's verify for the Test Set"
   ]
  },
  {
   "cell_type": "code",
   "execution_count": 25,
   "metadata": {
    "colab": {
     "base_uri": "https://localhost:8080/",
     "height": 87
    },
    "colab_type": "code",
    "id": "3YOPXI0B2NlJ",
    "outputId": "b4f99471-eb15-43f6-87aa-ed5751ca6954"
   },
   "outputs": [
    {
     "data": {
      "text/plain": [
       "label              2.166667\n",
       "letter_enc_mean    1.458333\n",
       "letter_enc_std     1.686411\n",
       "dtype: float64"
      ]
     },
     "execution_count": 25,
     "metadata": {},
     "output_type": "execute_result"
    }
   ],
   "source": [
    "copy_train_enc.mean()"
   ]
  },
  {
   "cell_type": "code",
   "execution_count": 26,
   "metadata": {
    "colab": {
     "base_uri": "https://localhost:8080/",
     "height": 107
    },
    "colab_type": "code",
    "id": "4YUKtDrR2NlL",
    "outputId": "0e192a22-5bf6-4be7-b709-9100fad2e403"
   },
   "outputs": [
    {
     "data": {
      "text/html": [
       "<div>\n",
       "<style scoped>\n",
       "    .dataframe tbody tr th:only-of-type {\n",
       "        vertical-align: middle;\n",
       "    }\n",
       "\n",
       "    .dataframe tbody tr th {\n",
       "        vertical-align: top;\n",
       "    }\n",
       "\n",
       "    .dataframe thead th {\n",
       "        text-align: right;\n",
       "    }\n",
       "</style>\n",
       "<table border=\"1\" class=\"dataframe\">\n",
       "  <thead>\n",
       "    <tr style=\"text-align: right;\">\n",
       "      <th></th>\n",
       "      <th>letter</th>\n",
       "      <th>label</th>\n",
       "      <th>letter_enc_mean</th>\n",
       "      <th>letter_enc_std</th>\n",
       "    </tr>\n",
       "  </thead>\n",
       "  <tbody>\n",
       "    <tr>\n",
       "      <th>0</th>\n",
       "      <td>A</td>\n",
       "      <td>10</td>\n",
       "      <td>1.000000</td>\n",
       "      <td>0.942809</td>\n",
       "    </tr>\n",
       "    <tr>\n",
       "      <th>1</th>\n",
       "      <td>D</td>\n",
       "      <td>8</td>\n",
       "      <td>1.458333</td>\n",
       "      <td>1.686411</td>\n",
       "    </tr>\n",
       "  </tbody>\n",
       "</table>\n",
       "</div>"
      ],
      "text/plain": [
       "  letter  label  letter_enc_mean  letter_enc_std\n",
       "0      A     10         1.000000        0.942809\n",
       "1      D      8         1.458333        1.686411"
      ]
     },
     "execution_count": 26,
     "metadata": {},
     "output_type": "execute_result"
    }
   ],
   "source": [
    "test_targetc = KFoldTargetEncoderTest_std(copy_train_enc, 'letter', 'letter_enc_mean', 'letter_enc_std')\n",
    "copy_test_enc= test_targetc.fit_transform(copy_test)\n",
    "copy_test_enc"
   ]
  },
  {
   "cell_type": "code",
   "execution_count": 27,
   "metadata": {
    "colab": {
     "base_uri": "https://localhost:8080/",
     "height": 107
    },
    "colab_type": "code",
    "id": "YjoQwzIg2NlN",
    "outputId": "a8455fc4-4864-4d60-e7ef-03c0caf93710"
   },
   "outputs": [
    {
     "data": {
      "text/html": [
       "<div>\n",
       "<style scoped>\n",
       "    .dataframe tbody tr th:only-of-type {\n",
       "        vertical-align: middle;\n",
       "    }\n",
       "\n",
       "    .dataframe tbody tr th {\n",
       "        vertical-align: top;\n",
       "    }\n",
       "\n",
       "    .dataframe thead th {\n",
       "        text-align: right;\n",
       "    }\n",
       "</style>\n",
       "<table border=\"1\" class=\"dataframe\">\n",
       "  <thead>\n",
       "    <tr style=\"text-align: right;\">\n",
       "      <th></th>\n",
       "      <th>letter</th>\n",
       "      <th>label</th>\n",
       "      <th>letter_encoded_mean</th>\n",
       "      <th>letter_encoded_std</th>\n",
       "      <th>ENCODED WITH NOISE</th>\n",
       "    </tr>\n",
       "  </thead>\n",
       "  <tbody>\n",
       "    <tr>\n",
       "      <th>0</th>\n",
       "      <td>A</td>\n",
       "      <td>10</td>\n",
       "      <td>1.000000</td>\n",
       "      <td>0.942809</td>\n",
       "      <td>0.995631</td>\n",
       "    </tr>\n",
       "    <tr>\n",
       "      <th>1</th>\n",
       "      <td>D</td>\n",
       "      <td>8</td>\n",
       "      <td>1.458333</td>\n",
       "      <td>1.686411</td>\n",
       "      <td>1.450479</td>\n",
       "    </tr>\n",
       "  </tbody>\n",
       "</table>\n",
       "</div>"
      ],
      "text/plain": [
       "  letter  label  letter_encoded_mean  letter_encoded_std  ENCODED WITH NOISE\n",
       "0      A     10             1.000000            0.942809            0.995631\n",
       "1      D      8             1.458333            1.686411            1.450479"
      ]
     },
     "execution_count": 27,
     "metadata": {},
     "output_type": "execute_result"
    }
   ],
   "source": [
    "test"
   ]
  },
  {
   "cell_type": "markdown",
   "metadata": {
    "colab_type": "text",
    "id": "MPR4zfrW2NlP"
   },
   "source": [
    "### Correct, I obtained the same values!"
   ]
  },
  {
   "cell_type": "markdown",
   "metadata": {
    "colab_type": "text",
    "id": "CkjJIBNn2Nlb"
   },
   "source": [
    "### NOTE: Where I have std dev = 0 for a certain category, that is because in the K-fold Train I have all same values for such category. In that case I would have no noise; thus in the official method I put a default std dev (around 0.01) in all such cases. This is, as the main purpose of the whole process, to reduce overfitting."
   ]
  },
  {
   "cell_type": "code",
   "execution_count": 0,
   "metadata": {
    "colab": {},
    "colab_type": "code",
    "id": "epGkCvrD2Nlb"
   },
   "outputs": [],
   "source": []
  },
  {
   "cell_type": "code",
   "execution_count": 0,
   "metadata": {
    "colab": {},
    "colab_type": "code",
    "id": "Ef6nf5_O2Nld"
   },
   "outputs": [],
   "source": []
  },
  {
   "cell_type": "code",
   "execution_count": 0,
   "metadata": {
    "colab": {},
    "colab_type": "code",
    "id": "TbQ4Zfwt2Nlg"
   },
   "outputs": [],
   "source": []
  }
 ],
 "metadata": {
  "colab": {
   "collapsed_sections": [],
   "name": "Target Encoding con Noise proporzionale a Std dev 20-09-19.ipynb",
   "provenance": []
  },
  "hide_input": false,
  "kernelspec": {
   "display_name": "Python 3",
   "language": "python",
   "name": "python3"
  },
  "language_info": {
   "codemirror_mode": {
    "name": "ipython",
    "version": 3
   },
   "file_extension": ".py",
   "mimetype": "text/x-python",
   "name": "python",
   "nbconvert_exporter": "python",
   "pygments_lexer": "ipython3",
   "version": "3.8.5"
  },
  "latex_envs": {
   "LaTeX_envs_menu_present": true,
   "autoclose": true,
   "autocomplete": true,
   "bibliofile": "biblio.bib",
   "cite_by": "apalike",
   "current_citInitial": 1,
   "eqLabelWithNumbers": true,
   "eqNumInitial": 1,
   "hotkeys": {
    "equation": "Ctrl-E",
    "itemize": "Ctrl-I"
   },
   "labels_anchors": false,
   "latex_user_defs": false,
   "report_style_numbering": false,
   "user_envs_cfg": false
  },
  "toc": {
   "base_numbering": 1,
   "nav_menu": {},
   "number_sections": true,
   "sideBar": true,
   "skip_h1_title": false,
   "title_cell": "Table of Contents",
   "title_sidebar": "Contents",
   "toc_cell": false,
   "toc_position": {},
   "toc_section_display": true,
   "toc_window_display": false
  },
  "varInspector": {
   "cols": {
    "lenName": 16,
    "lenType": 16,
    "lenVar": 40
   },
   "kernels_config": {
    "python": {
     "delete_cmd_postfix": "",
     "delete_cmd_prefix": "del ",
     "library": "var_list.py",
     "varRefreshCmd": "print(var_dic_list())"
    },
    "r": {
     "delete_cmd_postfix": ") ",
     "delete_cmd_prefix": "rm(",
     "library": "var_list.r",
     "varRefreshCmd": "cat(var_dic_list()) "
    }
   },
   "types_to_exclude": [
    "module",
    "function",
    "builtin_function_or_method",
    "instance",
    "_Feature"
   ],
   "window_display": false
  }
 },
 "nbformat": 4,
 "nbformat_minor": 1
}
